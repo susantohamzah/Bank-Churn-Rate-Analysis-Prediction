{
 "cells": [
  {
   "cell_type": "markdown",
   "metadata": {},
   "source": [
    "# Import Libraries"
   ]
  },
  {
   "cell_type": "code",
   "execution_count": 1,
   "metadata": {},
   "outputs": [],
   "source": [
    "import pandas as pd\n",
    "import warnings \n",
    "warnings.filterwarnings('ignore')\n",
    "import seaborn as sns\n",
    "import matplotlib.pyplot as plt \n",
    "import numpy as np \n",
    "\n",
    "from sklearn.model_selection import train_test_split\n",
    "from feature_engine.outliers import Winsorizer\n",
    "from sklearn.compose import ColumnTransformer\n",
    "from sklearn.preprocessing import MinMaxScaler, OneHotEncoder\n",
    "from imblearn.over_sampling import RandomOverSampler\n",
    "from scipy.stats import kendalltau, spearmanr\n",
    "from sklearn.pipeline import Pipeline\n",
    "from sklearn.linear_model import LogisticRegression\n",
    "from sklearn.neighbors import KNeighborsClassifier\n",
    "from sklearn.svm import SVC\n",
    "from sklearn.tree import DecisionTreeClassifier\n",
    "from sklearn.ensemble import RandomForestClassifier\n",
    "from xgboost import XGBClassifier\n",
    "from sklearn.metrics import classification_report, f1_score, make_scorer, accuracy_score\n",
    "from sklearn.model_selection import GridSearchCV, cross_val_score, StratifiedKFold\n",
    "from sklearn.metrics import confusion_matrix\n",
    "import pickle\n",
    "import json"
   ]
  },
  {
   "cell_type": "markdown",
   "metadata": {},
   "source": [
    "# Import Bigquery"
   ]
  },
  {
   "cell_type": "code",
   "execution_count": 2,
   "metadata": {},
   "outputs": [],
   "source": [
    "from google.oauth2 import service_account\n",
    "from google.cloud import bigquery\n",
    "\n",
    "# Authenticate using a service account key file\n",
    "credentials = service_account.Credentials.from_service_account_file(\n",
    "    'quixotic-booth-413509-c86c14cca6c7.json',\n",
    "    scopes=[\"https://www.googleapis.com/auth/cloud-platform\"],\n",
    ")\n",
    "\n",
    "# Specify your project ID\n",
    "project_id_akun = \"quixotic-booth-413509\"\n",
    "\n",
    "# Create a BigQuery client object using the credentials and project ID\n",
    "client = bigquery.Client(credentials=credentials, project=project_id_akun)\n",
    "\n",
    "# Your query to fetch data from BigQuery\n",
    "query = '''\n",
    "SELECT * FROM `quixotic-booth-413509.destination.churn_clean`\n",
    "'''\n",
    "\n",
    "# Execute the query and convert the results to a pandas DataFrame\n",
    "df = client.query(query).to_dataframe()"
   ]
  },
  {
   "cell_type": "markdown",
   "metadata": {},
   "source": [
    "# Data Loading"
   ]
  },
  {
   "cell_type": "code",
   "execution_count": 3,
   "metadata": {},
   "outputs": [
    {
     "data": {
      "text/html": [
       "<div>\n",
       "<style scoped>\n",
       "    .dataframe tbody tr th:only-of-type {\n",
       "        vertical-align: middle;\n",
       "    }\n",
       "\n",
       "    .dataframe tbody tr th {\n",
       "        vertical-align: top;\n",
       "    }\n",
       "\n",
       "    .dataframe thead th {\n",
       "        text-align: right;\n",
       "    }\n",
       "</style>\n",
       "<table border=\"1\" class=\"dataframe\">\n",
       "  <thead>\n",
       "    <tr style=\"text-align: right;\">\n",
       "      <th></th>\n",
       "      <th>credit_score</th>\n",
       "      <th>geography</th>\n",
       "      <th>gender</th>\n",
       "      <th>age</th>\n",
       "      <th>tenure</th>\n",
       "      <th>balance</th>\n",
       "      <th>num_of_products</th>\n",
       "      <th>has_credit_card</th>\n",
       "      <th>active_member</th>\n",
       "      <th>estimated_salary</th>\n",
       "      <th>exited</th>\n",
       "    </tr>\n",
       "  </thead>\n",
       "  <tbody>\n",
       "    <tr>\n",
       "      <th>0</th>\n",
       "      <td>695</td>\n",
       "      <td>Spain</td>\n",
       "      <td>Male</td>\n",
       "      <td>28</td>\n",
       "      <td>0</td>\n",
       "      <td>96020.86</td>\n",
       "      <td>1</td>\n",
       "      <td>1</td>\n",
       "      <td>1</td>\n",
       "      <td>57992.49</td>\n",
       "      <td>0</td>\n",
       "    </tr>\n",
       "    <tr>\n",
       "      <th>1</th>\n",
       "      <td>650</td>\n",
       "      <td>Spain</td>\n",
       "      <td>Male</td>\n",
       "      <td>71</td>\n",
       "      <td>0</td>\n",
       "      <td>0.00</td>\n",
       "      <td>1</td>\n",
       "      <td>1</td>\n",
       "      <td>1</td>\n",
       "      <td>175380.77</td>\n",
       "      <td>0</td>\n",
       "    </tr>\n",
       "    <tr>\n",
       "      <th>2</th>\n",
       "      <td>652</td>\n",
       "      <td>Spain</td>\n",
       "      <td>Female</td>\n",
       "      <td>38</td>\n",
       "      <td>1</td>\n",
       "      <td>103895.31</td>\n",
       "      <td>1</td>\n",
       "      <td>0</td>\n",
       "      <td>1</td>\n",
       "      <td>159649.44</td>\n",
       "      <td>0</td>\n",
       "    </tr>\n",
       "    <tr>\n",
       "      <th>3</th>\n",
       "      <td>671</td>\n",
       "      <td>Spain</td>\n",
       "      <td>Male</td>\n",
       "      <td>58</td>\n",
       "      <td>1</td>\n",
       "      <td>178713.98</td>\n",
       "      <td>1</td>\n",
       "      <td>1</td>\n",
       "      <td>1</td>\n",
       "      <td>21768.21</td>\n",
       "      <td>0</td>\n",
       "    </tr>\n",
       "    <tr>\n",
       "      <th>4</th>\n",
       "      <td>629</td>\n",
       "      <td>Spain</td>\n",
       "      <td>Female</td>\n",
       "      <td>30</td>\n",
       "      <td>2</td>\n",
       "      <td>34013.63</td>\n",
       "      <td>1</td>\n",
       "      <td>1</td>\n",
       "      <td>0</td>\n",
       "      <td>19570.63</td>\n",
       "      <td>0</td>\n",
       "    </tr>\n",
       "  </tbody>\n",
       "</table>\n",
       "</div>"
      ],
      "text/plain": [
       "   credit_score geography  gender  age  tenure    balance  num_of_products  \\\n",
       "0           695     Spain    Male   28       0   96020.86                1   \n",
       "1           650     Spain    Male   71       0       0.00                1   \n",
       "2           652     Spain  Female   38       1  103895.31                1   \n",
       "3           671     Spain    Male   58       1  178713.98                1   \n",
       "4           629     Spain  Female   30       2   34013.63                1   \n",
       "\n",
       "   has_credit_card  active_member  estimated_salary  exited  \n",
       "0                1              1          57992.49       0  \n",
       "1                1              1         175380.77       0  \n",
       "2                0              1         159649.44       0  \n",
       "3                1              1          21768.21       0  \n",
       "4                1              0          19570.63       0  "
      ]
     },
     "execution_count": 3,
     "metadata": {},
     "output_type": "execute_result"
    }
   ],
   "source": [
    "df.head()"
   ]
  },
  {
   "cell_type": "code",
   "execution_count": 4,
   "metadata": {},
   "outputs": [
    {
     "data": {
      "text/html": [
       "<div>\n",
       "<style scoped>\n",
       "    .dataframe tbody tr th:only-of-type {\n",
       "        vertical-align: middle;\n",
       "    }\n",
       "\n",
       "    .dataframe tbody tr th {\n",
       "        vertical-align: top;\n",
       "    }\n",
       "\n",
       "    .dataframe thead th {\n",
       "        text-align: right;\n",
       "    }\n",
       "</style>\n",
       "<table border=\"1\" class=\"dataframe\">\n",
       "  <thead>\n",
       "    <tr style=\"text-align: right;\">\n",
       "      <th></th>\n",
       "      <th>credit_score</th>\n",
       "      <th>geography</th>\n",
       "      <th>gender</th>\n",
       "      <th>age</th>\n",
       "      <th>tenure</th>\n",
       "      <th>balance</th>\n",
       "      <th>num_of_products</th>\n",
       "      <th>has_credit_card</th>\n",
       "      <th>active_member</th>\n",
       "      <th>estimated_salary</th>\n",
       "      <th>exited</th>\n",
       "    </tr>\n",
       "  </thead>\n",
       "  <tbody>\n",
       "    <tr>\n",
       "      <th>9995</th>\n",
       "      <td>630</td>\n",
       "      <td>Germany</td>\n",
       "      <td>Male</td>\n",
       "      <td>50</td>\n",
       "      <td>3</td>\n",
       "      <td>129370.91</td>\n",
       "      <td>4</td>\n",
       "      <td>1</td>\n",
       "      <td>1</td>\n",
       "      <td>47775.34</td>\n",
       "      <td>1</td>\n",
       "    </tr>\n",
       "    <tr>\n",
       "      <th>9996</th>\n",
       "      <td>632</td>\n",
       "      <td>Germany</td>\n",
       "      <td>Male</td>\n",
       "      <td>41</td>\n",
       "      <td>8</td>\n",
       "      <td>127205.32</td>\n",
       "      <td>4</td>\n",
       "      <td>1</td>\n",
       "      <td>0</td>\n",
       "      <td>93874.87</td>\n",
       "      <td>1</td>\n",
       "    </tr>\n",
       "    <tr>\n",
       "      <th>9997</th>\n",
       "      <td>640</td>\n",
       "      <td>Germany</td>\n",
       "      <td>Male</td>\n",
       "      <td>39</td>\n",
       "      <td>9</td>\n",
       "      <td>131607.28</td>\n",
       "      <td>4</td>\n",
       "      <td>0</td>\n",
       "      <td>1</td>\n",
       "      <td>6981.43</td>\n",
       "      <td>1</td>\n",
       "    </tr>\n",
       "    <tr>\n",
       "      <th>9998</th>\n",
       "      <td>376</td>\n",
       "      <td>Germany</td>\n",
       "      <td>Female</td>\n",
       "      <td>29</td>\n",
       "      <td>4</td>\n",
       "      <td>115046.74</td>\n",
       "      <td>4</td>\n",
       "      <td>1</td>\n",
       "      <td>0</td>\n",
       "      <td>119346.88</td>\n",
       "      <td>1</td>\n",
       "    </tr>\n",
       "    <tr>\n",
       "      <th>9999</th>\n",
       "      <td>819</td>\n",
       "      <td>Germany</td>\n",
       "      <td>Female</td>\n",
       "      <td>49</td>\n",
       "      <td>1</td>\n",
       "      <td>120656.86</td>\n",
       "      <td>4</td>\n",
       "      <td>0</td>\n",
       "      <td>0</td>\n",
       "      <td>166164.30</td>\n",
       "      <td>1</td>\n",
       "    </tr>\n",
       "  </tbody>\n",
       "</table>\n",
       "</div>"
      ],
      "text/plain": [
       "      credit_score geography  gender  age  tenure    balance  num_of_products  \\\n",
       "9995           630   Germany    Male   50       3  129370.91                4   \n",
       "9996           632   Germany    Male   41       8  127205.32                4   \n",
       "9997           640   Germany    Male   39       9  131607.28                4   \n",
       "9998           376   Germany  Female   29       4  115046.74                4   \n",
       "9999           819   Germany  Female   49       1  120656.86                4   \n",
       "\n",
       "      has_credit_card  active_member  estimated_salary  exited  \n",
       "9995                1              1          47775.34       1  \n",
       "9996                1              0          93874.87       1  \n",
       "9997                0              1           6981.43       1  \n",
       "9998                1              0         119346.88       1  \n",
       "9999                0              0         166164.30       1  "
      ]
     },
     "execution_count": 4,
     "metadata": {},
     "output_type": "execute_result"
    }
   ],
   "source": [
    "df.tail()"
   ]
  },
  {
   "cell_type": "code",
   "execution_count": 5,
   "metadata": {},
   "outputs": [
    {
     "name": "stdout",
     "output_type": "stream",
     "text": [
      "<class 'pandas.core.frame.DataFrame'>\n",
      "RangeIndex: 10000 entries, 0 to 9999\n",
      "Data columns (total 11 columns):\n",
      " #   Column            Non-Null Count  Dtype  \n",
      "---  ------            --------------  -----  \n",
      " 0   credit_score      10000 non-null  Int64  \n",
      " 1   geography         10000 non-null  object \n",
      " 2   gender            10000 non-null  object \n",
      " 3   age               10000 non-null  Int64  \n",
      " 4   tenure            10000 non-null  Int64  \n",
      " 5   balance           10000 non-null  float64\n",
      " 6   num_of_products   10000 non-null  Int64  \n",
      " 7   has_credit_card   10000 non-null  Int64  \n",
      " 8   active_member     10000 non-null  Int64  \n",
      " 9   estimated_salary  10000 non-null  float64\n",
      " 10  exited            10000 non-null  Int64  \n",
      "dtypes: Int64(7), float64(2), object(2)\n",
      "memory usage: 927.9+ KB\n"
     ]
    }
   ],
   "source": [
    "df.info()"
   ]
  },
  {
   "cell_type": "code",
   "execution_count": 6,
   "metadata": {},
   "outputs": [],
   "source": [
    "# Use pd.cut for \"has_credit_card\" column since values are not continuous\n",
    "df[\"has_credit_card\"] = pd.cut(df[\"has_credit_card\"], bins=2, labels=['no', 'yes']).astype(str)\n",
    "# Use pd.cut for \"active_member\" column since values are not continuous\n",
    "df[\"active_member\"] = pd.cut(df[\"active_member\"], bins=2, labels=['no', 'yes']).astype(str)"
   ]
  },
  {
   "cell_type": "code",
   "execution_count": 7,
   "metadata": {},
   "outputs": [
    {
     "data": {
      "text/plain": [
       "exited\n",
       "0    7963\n",
       "1    2037\n",
       "Name: count, dtype: Int64"
      ]
     },
     "execution_count": 7,
     "metadata": {},
     "output_type": "execute_result"
    }
   ],
   "source": [
    "# Cek apakah target balance atau tidak\n",
    "df['exited'].value_counts()"
   ]
  },
  {
   "cell_type": "code",
   "execution_count": 8,
   "metadata": {},
   "outputs": [],
   "source": [
    "ros = RandomOverSampler(sampling_strategy=1)\n",
    "x = df.drop(['exited'], axis=1)\n",
    "y = df[['exited']]\n",
    "x, y = ros.fit_resample(x, y) \n",
    "df = pd.concat([x, y], axis=1)"
   ]
  },
  {
   "cell_type": "markdown",
   "metadata": {},
   "source": [
    "## Save data after oversampled"
   ]
  },
  {
   "cell_type": "code",
   "execution_count": 9,
   "metadata": {},
   "outputs": [],
   "source": [
    "df.to_csv('Oversampled_data', index=False)"
   ]
  },
  {
   "cell_type": "markdown",
   "metadata": {},
   "source": [
    "## Load oversampled data"
   ]
  },
  {
   "cell_type": "code",
   "execution_count": 10,
   "metadata": {},
   "outputs": [
    {
     "data": {
      "text/html": [
       "<div>\n",
       "<style scoped>\n",
       "    .dataframe tbody tr th:only-of-type {\n",
       "        vertical-align: middle;\n",
       "    }\n",
       "\n",
       "    .dataframe tbody tr th {\n",
       "        vertical-align: top;\n",
       "    }\n",
       "\n",
       "    .dataframe thead th {\n",
       "        text-align: right;\n",
       "    }\n",
       "</style>\n",
       "<table border=\"1\" class=\"dataframe\">\n",
       "  <thead>\n",
       "    <tr style=\"text-align: right;\">\n",
       "      <th></th>\n",
       "      <th>credit_score</th>\n",
       "      <th>geography</th>\n",
       "      <th>gender</th>\n",
       "      <th>age</th>\n",
       "      <th>tenure</th>\n",
       "      <th>balance</th>\n",
       "      <th>num_of_products</th>\n",
       "      <th>has_credit_card</th>\n",
       "      <th>active_member</th>\n",
       "      <th>estimated_salary</th>\n",
       "      <th>exited</th>\n",
       "    </tr>\n",
       "  </thead>\n",
       "  <tbody>\n",
       "    <tr>\n",
       "      <th>0</th>\n",
       "      <td>695</td>\n",
       "      <td>Spain</td>\n",
       "      <td>Male</td>\n",
       "      <td>28</td>\n",
       "      <td>0</td>\n",
       "      <td>96020.86</td>\n",
       "      <td>1</td>\n",
       "      <td>yes</td>\n",
       "      <td>yes</td>\n",
       "      <td>57992.49</td>\n",
       "      <td>0</td>\n",
       "    </tr>\n",
       "    <tr>\n",
       "      <th>1</th>\n",
       "      <td>650</td>\n",
       "      <td>Spain</td>\n",
       "      <td>Male</td>\n",
       "      <td>71</td>\n",
       "      <td>0</td>\n",
       "      <td>0.00</td>\n",
       "      <td>1</td>\n",
       "      <td>yes</td>\n",
       "      <td>yes</td>\n",
       "      <td>175380.77</td>\n",
       "      <td>0</td>\n",
       "    </tr>\n",
       "    <tr>\n",
       "      <th>2</th>\n",
       "      <td>652</td>\n",
       "      <td>Spain</td>\n",
       "      <td>Female</td>\n",
       "      <td>38</td>\n",
       "      <td>1</td>\n",
       "      <td>103895.31</td>\n",
       "      <td>1</td>\n",
       "      <td>no</td>\n",
       "      <td>yes</td>\n",
       "      <td>159649.44</td>\n",
       "      <td>0</td>\n",
       "    </tr>\n",
       "  </tbody>\n",
       "</table>\n",
       "</div>"
      ],
      "text/plain": [
       "   credit_score geography  gender  age  tenure    balance  num_of_products  \\\n",
       "0           695     Spain    Male   28       0   96020.86                1   \n",
       "1           650     Spain    Male   71       0       0.00                1   \n",
       "2           652     Spain  Female   38       1  103895.31                1   \n",
       "\n",
       "  has_credit_card active_member  estimated_salary  exited  \n",
       "0             yes           yes          57992.49       0  \n",
       "1             yes           yes         175380.77       0  \n",
       "2              no           yes         159649.44       0  "
      ]
     },
     "execution_count": 10,
     "metadata": {},
     "output_type": "execute_result"
    }
   ],
   "source": [
    "df = pd.read_csv('Oversampled_data')\n",
    "df.head(3)"
   ]
  },
  {
   "cell_type": "code",
   "execution_count": 11,
   "metadata": {},
   "outputs": [
    {
     "name": "stdout",
     "output_type": "stream",
     "text": [
      "<class 'pandas.core.frame.DataFrame'>\n",
      "RangeIndex: 15926 entries, 0 to 15925\n",
      "Data columns (total 11 columns):\n",
      " #   Column            Non-Null Count  Dtype  \n",
      "---  ------            --------------  -----  \n",
      " 0   credit_score      15926 non-null  int64  \n",
      " 1   geography         15926 non-null  object \n",
      " 2   gender            15926 non-null  object \n",
      " 3   age               15926 non-null  int64  \n",
      " 4   tenure            15926 non-null  int64  \n",
      " 5   balance           15926 non-null  float64\n",
      " 6   num_of_products   15926 non-null  int64  \n",
      " 7   has_credit_card   15926 non-null  object \n",
      " 8   active_member     15926 non-null  object \n",
      " 9   estimated_salary  15926 non-null  float64\n",
      " 10  exited            15926 non-null  int64  \n",
      "dtypes: float64(2), int64(5), object(4)\n",
      "memory usage: 1.3+ MB\n"
     ]
    }
   ],
   "source": [
    "df.info()"
   ]
  },
  {
   "cell_type": "code",
   "execution_count": 12,
   "metadata": {},
   "outputs": [
    {
     "data": {
      "text/plain": [
       "credit_score        0\n",
       "geography           0\n",
       "gender              0\n",
       "age                 0\n",
       "tenure              0\n",
       "balance             0\n",
       "num_of_products     0\n",
       "has_credit_card     0\n",
       "active_member       0\n",
       "estimated_salary    0\n",
       "exited              0\n",
       "dtype: int64"
      ]
     },
     "execution_count": 12,
     "metadata": {},
     "output_type": "execute_result"
    }
   ],
   "source": [
    "# cek missing value\n",
    "df.isnull().sum()"
   ]
  },
  {
   "cell_type": "markdown",
   "metadata": {},
   "source": [
    "# Feature Engineering"
   ]
  },
  {
   "cell_type": "markdown",
   "metadata": {},
   "source": [
    "## Define categorical and numerical columns"
   ]
  },
  {
   "cell_type": "code",
   "execution_count": 13,
   "metadata": {},
   "outputs": [],
   "source": [
    "cat_columns = ['geography', 'gender', 'has_credit_card', 'active_member']\n",
    "num_columns = ['credit_score', 'age', 'tenure', 'balance','num_of_products', 'estimated_salary']"
   ]
  },
  {
   "cell_type": "markdown",
   "metadata": {},
   "source": [
    "## Handling Cardinality"
   ]
  },
  {
   "cell_type": "code",
   "execution_count": 14,
   "metadata": {},
   "outputs": [
    {
     "data": {
      "text/html": [
       "<div>\n",
       "<style scoped>\n",
       "    .dataframe tbody tr th:only-of-type {\n",
       "        vertical-align: middle;\n",
       "    }\n",
       "\n",
       "    .dataframe tbody tr th {\n",
       "        vertical-align: top;\n",
       "    }\n",
       "\n",
       "    .dataframe thead th {\n",
       "        text-align: right;\n",
       "    }\n",
       "</style>\n",
       "<table border=\"1\" class=\"dataframe\">\n",
       "  <thead>\n",
       "    <tr style=\"text-align: right;\">\n",
       "      <th></th>\n",
       "      <th>Nama Kolom</th>\n",
       "      <th>Jumlah Nilai Unique</th>\n",
       "      <th>Nilai Unique</th>\n",
       "    </tr>\n",
       "  </thead>\n",
       "  <tbody>\n",
       "    <tr>\n",
       "      <th>0</th>\n",
       "      <td>geography</td>\n",
       "      <td>3</td>\n",
       "      <td>[Spain, France, Germany]</td>\n",
       "    </tr>\n",
       "    <tr>\n",
       "      <th>1</th>\n",
       "      <td>gender</td>\n",
       "      <td>2</td>\n",
       "      <td>[Male, Female]</td>\n",
       "    </tr>\n",
       "    <tr>\n",
       "      <th>2</th>\n",
       "      <td>has_credit_card</td>\n",
       "      <td>2</td>\n",
       "      <td>[yes, no]</td>\n",
       "    </tr>\n",
       "    <tr>\n",
       "      <th>3</th>\n",
       "      <td>active_member</td>\n",
       "      <td>2</td>\n",
       "      <td>[yes, no]</td>\n",
       "    </tr>\n",
       "  </tbody>\n",
       "</table>\n",
       "</div>"
      ],
      "text/plain": [
       "        Nama Kolom  Jumlah Nilai Unique              Nilai Unique\n",
       "0        geography                    3  [Spain, France, Germany]\n",
       "1           gender                    2            [Male, Female]\n",
       "2  has_credit_card                    2                 [yes, no]\n",
       "3    active_member                    2                 [yes, no]"
      ]
     },
     "execution_count": 14,
     "metadata": {},
     "output_type": "execute_result"
    }
   ],
   "source": [
    "# mendefinisikan kolom yang masuk ke tipe data kategorik dan dijadikan sebagai list\n",
    "cat_cols = cat_columns\n",
    "\n",
    "# membuat list kosong listItem\n",
    "listItem = []\n",
    "# membuat forloop untuk kolom yang berada di dalam cat_cols\n",
    "for col in cat_cols:\n",
    "  # memasukkan nama kolom dan jumlah nilai unique pada list\n",
    "  listItem.append([col, df[col].nunique(), df[col].unique()])\n",
    "\n",
    "# membuat dataframe dari listItem\n",
    "pd.DataFrame(columns=['Nama Kolom', 'Jumlah Nilai Unique', 'Nilai Unique'], data=listItem)"
   ]
  },
  {
   "cell_type": "markdown",
   "metadata": {},
   "source": [
    "## Cek Target"
   ]
  },
  {
   "cell_type": "code",
   "execution_count": 15,
   "metadata": {},
   "outputs": [
    {
     "data": {
      "text/plain": [
       "exited\n",
       "0    7963\n",
       "1    7963\n",
       "Name: count, dtype: int64"
      ]
     },
     "execution_count": 15,
     "metadata": {},
     "output_type": "execute_result"
    }
   ],
   "source": [
    "# Cek apakah target balance atau tidak\n",
    "df['exited'].value_counts()"
   ]
  },
  {
   "cell_type": "markdown",
   "metadata": {},
   "source": [
    "## Splitting Feature X dan y"
   ]
  },
  {
   "cell_type": "code",
   "execution_count": 16,
   "metadata": {},
   "outputs": [],
   "source": [
    "#memisahkan antara fitur x dan y\n",
    "X = df.drop(['exited'], axis = 1)\n",
    "y = df['exited']"
   ]
  },
  {
   "cell_type": "code",
   "execution_count": 17,
   "metadata": {},
   "outputs": [
    {
     "name": "stdout",
     "output_type": "stream",
     "text": [
      "X Train Size:  (12740, 10)\n",
      "X Test Size:  (3186, 10)\n",
      "y Train Size:  (12740,)\n",
      "y Test Size:  (3186,)\n"
     ]
    }
   ],
   "source": [
    "# split data menjadi empat bagian, X_train, X_test, y_train, dan y_test\n",
    "X_train, X_test, y_train, y_test = train_test_split(X, y, test_size = 0.20, # komposisi data test sebesar 20% dari keseluruhan data\n",
    "                                                    stratify=y,\n",
    "                                                    random_state = 42)     # State kerandoman data ada pada state ke 0\n",
    "\n",
    "# Menampilkan ukuran dataframe dari X_train, X_test, y_train, dan y_test\n",
    "print('X Train Size: ', X_train.shape)\n",
    "print('X Test Size: ', X_test.shape)\n",
    "print('y Train Size: ', y_train.shape)\n",
    "print('y Test Size: ', y_test.shape)"
   ]
  },
  {
   "cell_type": "markdown",
   "metadata": {},
   "source": [
    "## Handling Outliers"
   ]
  },
  {
   "cell_type": "code",
   "execution_count": 18,
   "metadata": {},
   "outputs": [
    {
     "data": {
      "text/html": [
       "<div>\n",
       "<style scoped>\n",
       "    .dataframe tbody tr th:only-of-type {\n",
       "        vertical-align: middle;\n",
       "    }\n",
       "\n",
       "    .dataframe tbody tr th {\n",
       "        vertical-align: top;\n",
       "    }\n",
       "\n",
       "    .dataframe thead th {\n",
       "        text-align: right;\n",
       "    }\n",
       "</style>\n",
       "<table border=\"1\" class=\"dataframe\">\n",
       "  <thead>\n",
       "    <tr style=\"text-align: right;\">\n",
       "      <th></th>\n",
       "      <th>Nama Kolom</th>\n",
       "      <th>Nilai Skewness</th>\n",
       "    </tr>\n",
       "  </thead>\n",
       "  <tbody>\n",
       "    <tr>\n",
       "      <th>0</th>\n",
       "      <td>credit_score</td>\n",
       "      <td>-0.100034</td>\n",
       "    </tr>\n",
       "    <tr>\n",
       "      <th>1</th>\n",
       "      <td>age</td>\n",
       "      <td>0.580026</td>\n",
       "    </tr>\n",
       "    <tr>\n",
       "      <th>2</th>\n",
       "      <td>tenure</td>\n",
       "      <td>0.004804</td>\n",
       "    </tr>\n",
       "    <tr>\n",
       "      <th>3</th>\n",
       "      <td>balance</td>\n",
       "      <td>-0.281960</td>\n",
       "    </tr>\n",
       "    <tr>\n",
       "      <th>4</th>\n",
       "      <td>num_of_products</td>\n",
       "      <td>1.254900</td>\n",
       "    </tr>\n",
       "    <tr>\n",
       "      <th>5</th>\n",
       "      <td>estimated_salary</td>\n",
       "      <td>-0.019292</td>\n",
       "    </tr>\n",
       "  </tbody>\n",
       "</table>\n",
       "</div>"
      ],
      "text/plain": [
       "         Nama Kolom  Nilai Skewness\n",
       "0      credit_score       -0.100034\n",
       "1               age        0.580026\n",
       "2            tenure        0.004804\n",
       "3           balance       -0.281960\n",
       "4   num_of_products        1.254900\n",
       "5  estimated_salary       -0.019292"
      ]
     },
     "execution_count": 18,
     "metadata": {},
     "output_type": "execute_result"
    }
   ],
   "source": [
    "# Mendefinisikan kolom numerik \n",
    "num_cols = X_train[num_columns]\n",
    "# Membuat list kosong \n",
    "listItem= []\n",
    "# Membuat forloop untuk kolom di dalam num_cols\n",
    "for col in num_cols:\n",
    "  # Memasukkan kolom yang merupakan kolom numerik dan menghitung nilai skew nya\n",
    "  listItem.append([col, X_train[col].skew()])\n",
    "\n",
    "# membuat dataframe dari nilai skew yang telah dihitung\n",
    "pd.DataFrame(columns=['Nama Kolom', 'Nilai Skewness'], data= listItem)"
   ]
  },
  {
   "cell_type": "code",
   "execution_count": 19,
   "metadata": {},
   "outputs": [],
   "source": [
    "# capping data untuk data yang mengalami skewed\n",
    "winsoriser2 = Winsorizer(capping_method='iqr', # menggunakan metode IQR\n",
    "                            tail='both', # capping dilakukan pada outlier batas atas dan batas bawah\n",
    "                            fold=3, # menetapkan nilai fold\n",
    "                            #mendefinisikan kolom yang data nya terdistribusi secara skewed\n",
    "                            variables=[ 'age', 'num_of_products'],\n",
    "                            missing_values='ignore')\n",
    "\n",
    "# mendefinisikan dataset X_train yang telah di capping  dengan melakukan fit_transform\n",
    "X_train = winsoriser2.fit_transform(X_train)\n",
    "# mendefinisikan dataset X_test yang telah di capping  dengan melakukan transform\n",
    "X_test = winsoriser2.transform(X_test)"
   ]
  },
  {
   "cell_type": "code",
   "execution_count": 20,
   "metadata": {},
   "outputs": [],
   "source": [
    "variables = ['credit_score', 'tenure', 'balance', 'estimated_salary']\n",
    "# Convert the dtype of the variables to float64\n",
    "X_train[variables] = X_train[variables].astype(np.float64)\n",
    "X_test[variables] = X_test[variables].astype(np.float64)\n",
    "\n",
    "# Capping data untuk data terdistribusi normal\n",
    "winsoriser1 = Winsorizer(capping_method='gaussian', # Metode capping yang digunakan adalah gaussian untuk data terdistribusi normal\n",
    "                            tail='both', # capping dilakukan pada outlier batas atas dan batas bawah\n",
    "                            fold=1.5,\n",
    "                            # mendefinisikan kolom yang data nya terdistribusi secara normal\n",
    "                            variables= variables,\n",
    "                            # ignore missing value\n",
    "                            missing_values='ignore')\n",
    "\n",
    "# mendefinisikan dataset X_train yang telah di capping  dengan melakukan fit_transform\n",
    "X_train = winsoriser1.fit_transform(X_train)\n",
    "# mendefinisikan dataset X_test yang telah di capping  dengan melakukan transform\n",
    "X_test = winsoriser1.transform(X_test)"
   ]
  },
  {
   "cell_type": "markdown",
   "metadata": {},
   "source": [
    "## Handling Missing Value"
   ]
  },
  {
   "cell_type": "code",
   "execution_count": 21,
   "metadata": {},
   "outputs": [
    {
     "data": {
      "text/plain": [
       "credit_score        0\n",
       "geography           0\n",
       "gender              0\n",
       "age                 0\n",
       "tenure              0\n",
       "balance             0\n",
       "num_of_products     0\n",
       "has_credit_card     0\n",
       "active_member       0\n",
       "estimated_salary    0\n",
       "dtype: int64"
      ]
     },
     "execution_count": 21,
     "metadata": {},
     "output_type": "execute_result"
    }
   ],
   "source": [
    "X_train.isnull().sum()"
   ]
  },
  {
   "cell_type": "code",
   "execution_count": 22,
   "metadata": {},
   "outputs": [
    {
     "data": {
      "text/plain": [
       "credit_score        0\n",
       "geography           0\n",
       "gender              0\n",
       "age                 0\n",
       "tenure              0\n",
       "balance             0\n",
       "num_of_products     0\n",
       "has_credit_card     0\n",
       "active_member       0\n",
       "estimated_salary    0\n",
       "dtype: int64"
      ]
     },
     "execution_count": 22,
     "metadata": {},
     "output_type": "execute_result"
    }
   ],
   "source": [
    "X_test.isnull().sum()"
   ]
  },
  {
   "cell_type": "code",
   "execution_count": 23,
   "metadata": {},
   "outputs": [
    {
     "data": {
      "text/plain": [
       "0"
      ]
     },
     "execution_count": 23,
     "metadata": {},
     "output_type": "execute_result"
    }
   ],
   "source": [
    "y_train.isnull().sum()"
   ]
  },
  {
   "cell_type": "code",
   "execution_count": 24,
   "metadata": {},
   "outputs": [
    {
     "data": {
      "text/plain": [
       "0"
      ]
     },
     "execution_count": 24,
     "metadata": {},
     "output_type": "execute_result"
    }
   ],
   "source": [
    "y_test.isnull().sum()"
   ]
  },
  {
   "cell_type": "markdown",
   "metadata": {},
   "source": [
    "## Feature Selection"
   ]
  },
  {
   "cell_type": "code",
   "execution_count": 25,
   "metadata": {},
   "outputs": [
    {
     "data": {
      "text/html": [
       "<div>\n",
       "<style scoped>\n",
       "    .dataframe tbody tr th:only-of-type {\n",
       "        vertical-align: middle;\n",
       "    }\n",
       "\n",
       "    .dataframe tbody tr th {\n",
       "        vertical-align: top;\n",
       "    }\n",
       "\n",
       "    .dataframe thead th {\n",
       "        text-align: right;\n",
       "    }\n",
       "</style>\n",
       "<table border=\"1\" class=\"dataframe\">\n",
       "  <thead>\n",
       "    <tr style=\"text-align: right;\">\n",
       "      <th></th>\n",
       "      <th>credit_score</th>\n",
       "      <th>geography</th>\n",
       "      <th>gender</th>\n",
       "      <th>age</th>\n",
       "      <th>tenure</th>\n",
       "      <th>balance</th>\n",
       "      <th>num_of_products</th>\n",
       "      <th>has_credit_card</th>\n",
       "      <th>active_member</th>\n",
       "      <th>estimated_salary</th>\n",
       "    </tr>\n",
       "  </thead>\n",
       "  <tbody>\n",
       "    <tr>\n",
       "      <th>937</th>\n",
       "      <td>508.00000</td>\n",
       "      <td>Spain</td>\n",
       "      <td>Male</td>\n",
       "      <td>54</td>\n",
       "      <td>9.383829</td>\n",
       "      <td>0.00</td>\n",
       "      <td>1</td>\n",
       "      <td>yes</td>\n",
       "      <td>yes</td>\n",
       "      <td>175749.360000</td>\n",
       "    </tr>\n",
       "    <tr>\n",
       "      <th>3439</th>\n",
       "      <td>503.00298</td>\n",
       "      <td>France</td>\n",
       "      <td>Female</td>\n",
       "      <td>48</td>\n",
       "      <td>5.000000</td>\n",
       "      <td>0.00</td>\n",
       "      <td>1</td>\n",
       "      <td>yes</td>\n",
       "      <td>no</td>\n",
       "      <td>160529.710000</td>\n",
       "    </tr>\n",
       "    <tr>\n",
       "      <th>3530</th>\n",
       "      <td>592.00000</td>\n",
       "      <td>France</td>\n",
       "      <td>Male</td>\n",
       "      <td>37</td>\n",
       "      <td>3.000000</td>\n",
       "      <td>96651.03</td>\n",
       "      <td>1</td>\n",
       "      <td>yes</td>\n",
       "      <td>yes</td>\n",
       "      <td>14050.103491</td>\n",
       "    </tr>\n",
       "  </tbody>\n",
       "</table>\n",
       "</div>"
      ],
      "text/plain": [
       "      credit_score geography  gender  age    tenure   balance  \\\n",
       "937      508.00000     Spain    Male   54  9.383829      0.00   \n",
       "3439     503.00298    France  Female   48  5.000000      0.00   \n",
       "3530     592.00000    France    Male   37  3.000000  96651.03   \n",
       "\n",
       "      num_of_products has_credit_card active_member  estimated_salary  \n",
       "937                 1             yes           yes     175749.360000  \n",
       "3439                1             yes            no     160529.710000  \n",
       "3530                1             yes           yes      14050.103491  "
      ]
     },
     "execution_count": 25,
     "metadata": {},
     "output_type": "execute_result"
    }
   ],
   "source": [
    "X_train.head(3)"
   ]
  },
  {
   "cell_type": "code",
   "execution_count": 26,
   "metadata": {},
   "outputs": [
    {
     "name": "stdout",
     "output_type": "stream",
     "text": [
      "Numeric Columns:  ['credit_score', 'age', 'tenure', 'balance', 'num_of_products', 'estimated_salary']\n",
      "Categorical Columns:  ['geography', 'gender', 'has_credit_card', 'active_member']\n"
     ]
    }
   ],
   "source": [
    "# menampilkan list kolom numerik dan kolom kategorik\n",
    "print('Numeric Columns: ', num_columns)\n",
    "print('Categorical Columns: ', cat_columns)"
   ]
  },
  {
   "cell_type": "code",
   "execution_count": 27,
   "metadata": {},
   "outputs": [
    {
     "name": "stdout",
     "output_type": "stream",
     "text": [
      "X_train_num: (12740, 6)\n",
      "X_test_num: (3186, 6)\n",
      "\n",
      "X_train_cat: (12740, 4)\n",
      "X_test_cat: (3186, 4)\n"
     ]
    }
   ],
   "source": [
    "# Split kolom numerik dan kolom kategorik pada dataset train dan test\n",
    "X_train_num = X_train[num_columns]\n",
    "X_train_cat = X_train[cat_columns]\n",
    "\n",
    "X_test_num = X_test[num_columns]\n",
    "X_test_cat = X_test[cat_columns]\n",
    "\n",
    "# menampilkan dataset train numerik\n",
    "print('X_train_num:', X_train_num.shape)\n",
    "print('X_test_num:', X_test_num.shape)\n",
    "print('')\n",
    "print('X_train_cat:', X_train_cat.shape)\n",
    "print('X_test_cat:', X_test_cat.shape)"
   ]
  },
  {
   "cell_type": "markdown",
   "metadata": {},
   "source": [
    "## Uji Korelasi"
   ]
  },
  {
   "cell_type": "code",
   "execution_count": 28,
   "metadata": {},
   "outputs": [
    {
     "data": {
      "text/html": [
       "<div>\n",
       "<style scoped>\n",
       "    .dataframe tbody tr th:only-of-type {\n",
       "        vertical-align: middle;\n",
       "    }\n",
       "\n",
       "    .dataframe tbody tr th {\n",
       "        vertical-align: top;\n",
       "    }\n",
       "\n",
       "    .dataframe thead th {\n",
       "        text-align: right;\n",
       "    }\n",
       "</style>\n",
       "<table border=\"1\" class=\"dataframe\">\n",
       "  <thead>\n",
       "    <tr style=\"text-align: right;\">\n",
       "      <th></th>\n",
       "      <th>nama kolom</th>\n",
       "      <th>hasil</th>\n",
       "    </tr>\n",
       "  </thead>\n",
       "  <tbody>\n",
       "    <tr>\n",
       "      <th>0</th>\n",
       "      <td>geography</td>\n",
       "      <td>Terdapat Korelasi</td>\n",
       "    </tr>\n",
       "    <tr>\n",
       "      <th>1</th>\n",
       "      <td>gender</td>\n",
       "      <td>Terdapat Korelasi</td>\n",
       "    </tr>\n",
       "    <tr>\n",
       "      <th>2</th>\n",
       "      <td>has_credit_card</td>\n",
       "      <td>Tidak terdapat korelasi</td>\n",
       "    </tr>\n",
       "    <tr>\n",
       "      <th>3</th>\n",
       "      <td>active_member</td>\n",
       "      <td>Terdapat Korelasi</td>\n",
       "    </tr>\n",
       "  </tbody>\n",
       "</table>\n",
       "</div>"
      ],
      "text/plain": [
       "        nama kolom                    hasil\n",
       "0        geography        Terdapat Korelasi\n",
       "1           gender        Terdapat Korelasi\n",
       "2  has_credit_card  Tidak terdapat korelasi\n",
       "3    active_member        Terdapat Korelasi"
      ]
     },
     "execution_count": 28,
     "metadata": {},
     "output_type": "execute_result"
    }
   ],
   "source": [
    "# Mendefinisikan list kosong untuk p_values, interpretasi, dan cols\n",
    "p_values = []\n",
    "interpretasi = []\n",
    "cols = []\n",
    "\n",
    "# melakukan forloop untuk kolom yang terdapat didalam dataset kategorik\n",
    "for col in X_train_cat.columns:\n",
    "  # melakukan uji korelasi dengan menggunakan kendaltau pada setiap kolom dataset kategorik\n",
    "  corr_coef, p_value = kendalltau(X_train_cat[col], y_train)\n",
    "\n",
    "  #input p_values ke dalam list p_values\n",
    "  p_values.append(p_value)\n",
    "  # input nama kolom ke list cols\n",
    "  cols.append(col)\n",
    "\n",
    "  # dilakukan pengecekan, jika p_value di bawah nilai 0.05, maka terdapat korelasi\n",
    "  if p_value < 0.05:\n",
    "    interpretasi.append('Terdapat Korelasi')\n",
    "  # jika p_value berada di atas nilai 0.05, maka tidak terdapat korelasi\n",
    "  else :\n",
    "    interpretasi.append('Tidak terdapat korelasi')\n",
    "\n",
    "# membuat dataframe untuk nama kolom dan hasil dari interpretasi\n",
    "pd.DataFrame({'nama kolom':cols,\n",
    "              'hasil': interpretasi})"
   ]
  },
  {
   "cell_type": "code",
   "execution_count": 30,
   "metadata": {},
   "outputs": [],
   "source": [
    "# Drop kolom yang tidak memiliki korelasi pada dataset train dan test\n",
    "X_train_cat = X_train_cat.copy()  \n",
    "X_test_cat = X_test_cat.copy()\n",
    "X_train_cat.drop(['has_credit_card'], axis=1, inplace=True)\n",
    "X_test_cat.drop(['has_credit_card'], axis=1, inplace=True)"
   ]
  },
  {
   "cell_type": "code",
   "execution_count": 29,
   "metadata": {},
   "outputs": [
    {
     "data": {
      "text/html": [
       "<div>\n",
       "<style scoped>\n",
       "    .dataframe tbody tr th:only-of-type {\n",
       "        vertical-align: middle;\n",
       "    }\n",
       "\n",
       "    .dataframe tbody tr th {\n",
       "        vertical-align: top;\n",
       "    }\n",
       "\n",
       "    .dataframe thead th {\n",
       "        text-align: right;\n",
       "    }\n",
       "</style>\n",
       "<table border=\"1\" class=\"dataframe\">\n",
       "  <thead>\n",
       "    <tr style=\"text-align: right;\">\n",
       "      <th></th>\n",
       "      <th>nama kolom</th>\n",
       "      <th>hasil</th>\n",
       "    </tr>\n",
       "  </thead>\n",
       "  <tbody>\n",
       "    <tr>\n",
       "      <th>0</th>\n",
       "      <td>credit_score</td>\n",
       "      <td>Tidak terdapat korelasi</td>\n",
       "    </tr>\n",
       "    <tr>\n",
       "      <th>1</th>\n",
       "      <td>age</td>\n",
       "      <td>Terdapat korelasi</td>\n",
       "    </tr>\n",
       "    <tr>\n",
       "      <th>2</th>\n",
       "      <td>tenure</td>\n",
       "      <td>Tidak terdapat korelasi</td>\n",
       "    </tr>\n",
       "    <tr>\n",
       "      <th>3</th>\n",
       "      <td>balance</td>\n",
       "      <td>Terdapat korelasi</td>\n",
       "    </tr>\n",
       "    <tr>\n",
       "      <th>4</th>\n",
       "      <td>num_of_products</td>\n",
       "      <td>Terdapat korelasi</td>\n",
       "    </tr>\n",
       "    <tr>\n",
       "      <th>5</th>\n",
       "      <td>estimated_salary</td>\n",
       "      <td>Tidak terdapat korelasi</td>\n",
       "    </tr>\n",
       "  </tbody>\n",
       "</table>\n",
       "</div>"
      ],
      "text/plain": [
       "         nama kolom                    hasil\n",
       "0      credit_score  Tidak terdapat korelasi\n",
       "1               age        Terdapat korelasi\n",
       "2            tenure  Tidak terdapat korelasi\n",
       "3           balance        Terdapat korelasi\n",
       "4   num_of_products        Terdapat korelasi\n",
       "5  estimated_salary  Tidak terdapat korelasi"
      ]
     },
     "execution_count": 29,
     "metadata": {},
     "output_type": "execute_result"
    }
   ],
   "source": [
    "# Mendefinisikan list kosong untuk p_values, interpretasi, dan cols\n",
    "p_values = []\n",
    "interpretasi = []\n",
    "cols = []\n",
    "\n",
    "# forloop untuk kolom yang berada di dataset numerik\n",
    "for col in X_train_num.columns:\n",
    "  # melakukan perhitungan uji korelasi dengan menggunakan pearsonr untuk data numerik\n",
    "  corr_coef, p_value = spearmanr(X_train_num[col], y_train)\n",
    "\n",
    "  # p_value yang didapat kemudian dimasukkan ke dalam list p_value\n",
    "  p_values.append(p_value)\n",
    "  # memasukkan nama dari setiap kolom numerik\n",
    "  cols.append(col)\n",
    "\n",
    "  # cek jika p_value di bawah 0.05, maka terdapat korelasi\n",
    "  if p_value < 0.05:\n",
    "    interpretasi.append('Terdapat korelasi')\n",
    "  # jika p_value di atas nilai 0.05, maka tidak terdapat korelasi\n",
    "  else :\n",
    "    interpretasi.append('Tidak terdapat korelasi')\n",
    "\n",
    "# membuat dataframe untuk kolom han hasil interpretasi\n",
    "pd.DataFrame({'nama kolom':cols,\n",
    "              'hasil': interpretasi})"
   ]
  },
  {
   "cell_type": "code",
   "execution_count": 31,
   "metadata": {},
   "outputs": [],
   "source": [
    "# copy dataset train dan test dari data numerik\n",
    "X_train_num = X_train_num.copy()\n",
    "X_test_num= X_test_num.copy()\n",
    "\n",
    "# remove kolom yang tidak berkorelasi di X_train_num dan X_test_num\n",
    "X_train_num.drop(['tenure'], axis=1, inplace=True)\n",
    "X_test_num.drop(['tenure'], axis=1, inplace=True)"
   ]
  },
  {
   "cell_type": "markdown",
   "metadata": {},
   "source": [
    "## Concate numerical and categorical columns"
   ]
  },
  {
   "cell_type": "code",
   "execution_count": 32,
   "metadata": {},
   "outputs": [
    {
     "data": {
      "text/plain": [
       "array([[508.0, 54.0, 0.0, ..., 'Spain', 'Male', 'yes'],\n",
       "       [503.0029800908676, 48.0, 0.0, ..., 'France', 'Female', 'no'],\n",
       "       [592.0, 37.0, 96651.03, ..., 'France', 'Male', 'yes'],\n",
       "       ...,\n",
       "       [796.4904265025391, 40.0, 97764.41, ..., 'France', 'Female', 'no'],\n",
       "       [614.0, 37.0, 75150.34, ..., 'France', 'Female', 'yes'],\n",
       "       [772.0, 35.0, 0.0, ..., 'France', 'Female', 'yes']], dtype=object)"
      ]
     },
     "execution_count": 32,
     "metadata": {},
     "output_type": "execute_result"
    }
   ],
   "source": [
    "#Concate kolom train dan test\n",
    "X_train = np.concatenate([X_train_num, X_train_cat], axis = 1)\n",
    "X_test = np.concatenate([X_test_num, X_test_cat], axis = 1)\n",
    "\n",
    "# menunjukkan dataset array final yang telah di concate\n",
    "X_train"
   ]
  },
  {
   "cell_type": "code",
   "execution_count": 33,
   "metadata": {},
   "outputs": [
    {
     "data": {
      "text/plain": [
       "(12740, 8)"
      ]
     },
     "execution_count": 33,
     "metadata": {},
     "output_type": "execute_result"
    }
   ],
   "source": [
    "# Cek dimensi dataset final\n",
    "X_train.shape"
   ]
  },
  {
   "cell_type": "code",
   "execution_count": 34,
   "metadata": {},
   "outputs": [
    {
     "data": {
      "text/html": [
       "<div>\n",
       "<style scoped>\n",
       "    .dataframe tbody tr th:only-of-type {\n",
       "        vertical-align: middle;\n",
       "    }\n",
       "\n",
       "    .dataframe tbody tr th {\n",
       "        vertical-align: top;\n",
       "    }\n",
       "\n",
       "    .dataframe thead th {\n",
       "        text-align: right;\n",
       "    }\n",
       "</style>\n",
       "<table border=\"1\" class=\"dataframe\">\n",
       "  <thead>\n",
       "    <tr style=\"text-align: right;\">\n",
       "      <th></th>\n",
       "      <th>credit_score</th>\n",
       "      <th>age</th>\n",
       "      <th>balance</th>\n",
       "      <th>num_of_products</th>\n",
       "      <th>estimated_salary</th>\n",
       "      <th>geography</th>\n",
       "      <th>gender</th>\n",
       "      <th>active_member</th>\n",
       "    </tr>\n",
       "  </thead>\n",
       "  <tbody>\n",
       "    <tr>\n",
       "      <th>0</th>\n",
       "      <td>508.0</td>\n",
       "      <td>54.0</td>\n",
       "      <td>0.0</td>\n",
       "      <td>1.0</td>\n",
       "      <td>175749.36</td>\n",
       "      <td>Spain</td>\n",
       "      <td>Male</td>\n",
       "      <td>yes</td>\n",
       "    </tr>\n",
       "    <tr>\n",
       "      <th>1</th>\n",
       "      <td>503.00298</td>\n",
       "      <td>48.0</td>\n",
       "      <td>0.0</td>\n",
       "      <td>1.0</td>\n",
       "      <td>160529.71</td>\n",
       "      <td>France</td>\n",
       "      <td>Female</td>\n",
       "      <td>no</td>\n",
       "    </tr>\n",
       "    <tr>\n",
       "      <th>2</th>\n",
       "      <td>592.0</td>\n",
       "      <td>37.0</td>\n",
       "      <td>96651.03</td>\n",
       "      <td>1.0</td>\n",
       "      <td>14050.103491</td>\n",
       "      <td>France</td>\n",
       "      <td>Male</td>\n",
       "      <td>yes</td>\n",
       "    </tr>\n",
       "  </tbody>\n",
       "</table>\n",
       "</div>"
      ],
      "text/plain": [
       "  credit_score   age   balance num_of_products estimated_salary geography  \\\n",
       "0        508.0  54.0       0.0             1.0        175749.36     Spain   \n",
       "1    503.00298  48.0       0.0             1.0        160529.71    France   \n",
       "2        592.0  37.0  96651.03             1.0     14050.103491    France   \n",
       "\n",
       "   gender active_member  \n",
       "0    Male           yes  \n",
       "1  Female            no  \n",
       "2    Male           yes  "
      ]
     },
     "execution_count": 34,
     "metadata": {},
     "output_type": "execute_result"
    }
   ],
   "source": [
    "# Membuat dataframe untuk X_train\n",
    "X_train = pd.DataFrame(X_train, columns=np.concatenate([X_train_num.columns, X_train_cat.columns]))\n",
    "# Menampilkan dataframe X_train\n",
    "X_train.head(3)"
   ]
  },
  {
   "cell_type": "code",
   "execution_count": 35,
   "metadata": {},
   "outputs": [
    {
     "data": {
      "text/html": [
       "<div>\n",
       "<style scoped>\n",
       "    .dataframe tbody tr th:only-of-type {\n",
       "        vertical-align: middle;\n",
       "    }\n",
       "\n",
       "    .dataframe tbody tr th {\n",
       "        vertical-align: top;\n",
       "    }\n",
       "\n",
       "    .dataframe thead th {\n",
       "        text-align: right;\n",
       "    }\n",
       "</style>\n",
       "<table border=\"1\" class=\"dataframe\">\n",
       "  <thead>\n",
       "    <tr style=\"text-align: right;\">\n",
       "      <th></th>\n",
       "      <th>credit_score</th>\n",
       "      <th>age</th>\n",
       "      <th>balance</th>\n",
       "      <th>num_of_products</th>\n",
       "      <th>estimated_salary</th>\n",
       "      <th>geography</th>\n",
       "      <th>gender</th>\n",
       "      <th>active_member</th>\n",
       "    </tr>\n",
       "  </thead>\n",
       "  <tbody>\n",
       "    <tr>\n",
       "      <th>0</th>\n",
       "      <td>564.0</td>\n",
       "      <td>31.0</td>\n",
       "      <td>125175.58</td>\n",
       "      <td>1.0</td>\n",
       "      <td>72757.33</td>\n",
       "      <td>Spain</td>\n",
       "      <td>Male</td>\n",
       "      <td>yes</td>\n",
       "    </tr>\n",
       "    <tr>\n",
       "      <th>1</th>\n",
       "      <td>503.00298</td>\n",
       "      <td>28.0</td>\n",
       "      <td>122384.22</td>\n",
       "      <td>3.0</td>\n",
       "      <td>89017.38</td>\n",
       "      <td>Germany</td>\n",
       "      <td>Male</td>\n",
       "      <td>yes</td>\n",
       "    </tr>\n",
       "    <tr>\n",
       "      <th>2</th>\n",
       "      <td>794.0</td>\n",
       "      <td>28.0</td>\n",
       "      <td>0.0</td>\n",
       "      <td>2.0</td>\n",
       "      <td>86699.98</td>\n",
       "      <td>Spain</td>\n",
       "      <td>Female</td>\n",
       "      <td>yes</td>\n",
       "    </tr>\n",
       "  </tbody>\n",
       "</table>\n",
       "</div>"
      ],
      "text/plain": [
       "  credit_score   age    balance num_of_products estimated_salary geography  \\\n",
       "0        564.0  31.0  125175.58             1.0         72757.33     Spain   \n",
       "1    503.00298  28.0  122384.22             3.0         89017.38   Germany   \n",
       "2        794.0  28.0        0.0             2.0         86699.98     Spain   \n",
       "\n",
       "   gender active_member  \n",
       "0    Male           yes  \n",
       "1    Male           yes  \n",
       "2  Female           yes  "
      ]
     },
     "execution_count": 35,
     "metadata": {},
     "output_type": "execute_result"
    }
   ],
   "source": [
    "# Membuat dataframe untuk X_test\n",
    "X_test = pd.DataFrame(X_test, columns=np.concatenate([X_test_num.columns, X_test_cat.columns]))\n",
    "# Menampilkan dataframe X_test\n",
    "X_test.head(3)"
   ]
  },
  {
   "cell_type": "markdown",
   "metadata": {},
   "source": [
    "# Modelling"
   ]
  },
  {
   "cell_type": "code",
   "execution_count": 36,
   "metadata": {},
   "outputs": [],
   "source": [
    "num_columns = X_train_num.columns.to_list()\n",
    "cat_columns= X_train_cat.columns.to_list()\n",
    "\n",
    "# Membuat kolom tranformer untuk preprocessing\n",
    "transformer = ColumnTransformer([\n",
    "    ('scaler', MinMaxScaler(), num_columns),\n",
    "    ('ohe', OneHotEncoder(handle_unknown='ignore'), cat_columns)       \n",
    "])\n",
    "\n",
    "#Membuat pipeline untuk Logreg\n",
    "model_logreg = Pipeline([\n",
    "('transformer', transformer),\n",
    "('classifier', LogisticRegression())\n",
    "])\n",
    "\n",
    "#Membuat pipeline untuk SVM\n",
    "model_svm = Pipeline([\n",
    "('transformer', transformer),\n",
    "('classifier', SVC())\n",
    "])\n",
    "\n",
    "#Membuat pipeline untuk KNN\n",
    "model_knn = Pipeline([\n",
    "('transformer', transformer),\n",
    "('classifier', KNeighborsClassifier())\n",
    "])\n",
    "\n",
    "#Membuat pipeline untuk Decision Tree\n",
    "model_dt = Pipeline([\n",
    "('transformer', transformer),\n",
    "('classifier', DecisionTreeClassifier())\n",
    "])\n",
    "\n",
    "#Membuat pipeline untuk Random Forest   \n",
    "model_rf = Pipeline([\n",
    "('transformer', transformer),\n",
    "('classifier', RandomForestClassifier())\n",
    "])\n",
    "\n",
    "#Membuat pipeline untuk XGBoost\n",
    "model_xgb = Pipeline([\n",
    "('transformer', transformer),\n",
    "('classifier', XGBClassifier())\n",
    "])"
   ]
  },
  {
   "cell_type": "markdown",
   "metadata": {},
   "source": [
    "## Logistic Regression"
   ]
  },
  {
   "cell_type": "code",
   "execution_count": 37,
   "metadata": {},
   "outputs": [
    {
     "name": "stdout",
     "output_type": "stream",
     "text": [
      "Training Score:  0.7026\n",
      "Testing Score:  0.7156\n"
     ]
    }
   ],
   "source": [
    "# fit model pada train set\n",
    "model_logreg.fit(X_train, y_train)\n",
    "# predict model pada test set\n",
    "y_logreg_pred = model_logreg.predict(X_test)\n",
    "# Menampilkan nilai akurasi training dan testing\n",
    "print('Training Score: ',round(model_logreg.score(X_train, y_train),4))\n",
    "print('Testing Score: ', round(model_logreg.score(X_test, y_test),4))"
   ]
  },
  {
   "cell_type": "code",
   "execution_count": 38,
   "metadata": {},
   "outputs": [
    {
     "name": "stdout",
     "output_type": "stream",
     "text": [
      "              precision    recall  f1-score   support\n",
      "\n",
      "          No       0.71      0.74      0.72      1593\n",
      "         Yes       0.73      0.69      0.71      1593\n",
      "\n",
      "    accuracy                           0.72      3186\n",
      "   macro avg       0.72      0.72      0.72      3186\n",
      "weighted avg       0.72      0.72      0.72      3186\n",
      "\n"
     ]
    }
   ],
   "source": [
    "# Mendefinisikan target\n",
    "target = ['No', 'Yes']\n",
    "# menampilkan classification report\n",
    "print(classification_report(y_test, y_logreg_pred, target_names=target))"
   ]
  },
  {
   "cell_type": "code",
   "execution_count": 42,
   "metadata": {},
   "outputs": [
    {
     "data": {
      "text/plain": [
       "<Axes: >"
      ]
     },
     "execution_count": 42,
     "metadata": {},
     "output_type": "execute_result"
    },
    {
     "data": {
      "image/png": "[encoded data removed]",
      "text/plain": [
       "<Figure size 640x480 with 2 Axes>"
      ]
     },
     "metadata": {},
     "output_type": "display_data"
    }
   ],
   "source": [
    "sns.heatmap(confusion_matrix(y_test,y_logreg_pred),annot=True, fmt='d')"
   ]
  },
  {
   "cell_type": "code",
   "execution_count": 65,
   "metadata": {},
   "outputs": [
    {
     "data": {
      "text/html": [
       "<div>\n",
       "<style scoped>\n",
       "    .dataframe tbody tr th:only-of-type {\n",
       "        vertical-align: middle;\n",
       "    }\n",
       "\n",
       "    .dataframe tbody tr th {\n",
       "        vertical-align: top;\n",
       "    }\n",
       "\n",
       "    .dataframe thead th {\n",
       "        text-align: right;\n",
       "    }\n",
       "</style>\n",
       "<table border=\"1\" class=\"dataframe\">\n",
       "  <thead>\n",
       "    <tr style=\"text-align: right;\">\n",
       "      <th></th>\n",
       "      <th>credit_score</th>\n",
       "      <th>age</th>\n",
       "      <th>balance</th>\n",
       "      <th>num_of_products</th>\n",
       "      <th>estimated_salary</th>\n",
       "      <th>geography</th>\n",
       "      <th>gender</th>\n",
       "      <th>active_member</th>\n",
       "      <th>exited</th>\n",
       "      <th>Prediction</th>\n",
       "    </tr>\n",
       "  </thead>\n",
       "  <tbody>\n",
       "    <tr>\n",
       "      <th>0</th>\n",
       "      <td>564.0</td>\n",
       "      <td>31.0</td>\n",
       "      <td>125175.58</td>\n",
       "      <td>1.0</td>\n",
       "      <td>72757.33</td>\n",
       "      <td>Spain</td>\n",
       "      <td>Male</td>\n",
       "      <td>yes</td>\n",
       "      <td>0</td>\n",
       "      <td>0</td>\n",
       "    </tr>\n",
       "    <tr>\n",
       "      <th>1</th>\n",
       "      <td>503.00298</td>\n",
       "      <td>28.0</td>\n",
       "      <td>122384.22</td>\n",
       "      <td>3.0</td>\n",
       "      <td>89017.38</td>\n",
       "      <td>Germany</td>\n",
       "      <td>Male</td>\n",
       "      <td>yes</td>\n",
       "      <td>1</td>\n",
       "      <td>0</td>\n",
       "    </tr>\n",
       "    <tr>\n",
       "      <th>2</th>\n",
       "      <td>794.0</td>\n",
       "      <td>28.0</td>\n",
       "      <td>0.0</td>\n",
       "      <td>2.0</td>\n",
       "      <td>86699.98</td>\n",
       "      <td>Spain</td>\n",
       "      <td>Female</td>\n",
       "      <td>yes</td>\n",
       "      <td>0</td>\n",
       "      <td>0</td>\n",
       "    </tr>\n",
       "    <tr>\n",
       "      <th>3</th>\n",
       "      <td>712.0</td>\n",
       "      <td>44.0</td>\n",
       "      <td>0.0</td>\n",
       "      <td>2.0</td>\n",
       "      <td>45738.94</td>\n",
       "      <td>Spain</td>\n",
       "      <td>Female</td>\n",
       "      <td>no</td>\n",
       "      <td>0</td>\n",
       "      <td>1</td>\n",
       "    </tr>\n",
       "    <tr>\n",
       "      <th>4</th>\n",
       "      <td>503.00298</td>\n",
       "      <td>19.0</td>\n",
       "      <td>125860.2</td>\n",
       "      <td>1.0</td>\n",
       "      <td>129690.5</td>\n",
       "      <td>Germany</td>\n",
       "      <td>Male</td>\n",
       "      <td>no</td>\n",
       "      <td>0</td>\n",
       "      <td>0</td>\n",
       "    </tr>\n",
       "  </tbody>\n",
       "</table>\n",
       "</div>"
      ],
      "text/plain": [
       "  credit_score   age    balance num_of_products estimated_salary geography  \\\n",
       "0        564.0  31.0  125175.58             1.0         72757.33     Spain   \n",
       "1    503.00298  28.0  122384.22             3.0         89017.38   Germany   \n",
       "2        794.0  28.0        0.0             2.0         86699.98     Spain   \n",
       "3        712.0  44.0        0.0             2.0         45738.94     Spain   \n",
       "4    503.00298  19.0   125860.2             1.0         129690.5   Germany   \n",
       "\n",
       "   gender active_member  exited  Prediction  \n",
       "0    Male           yes       0           0  \n",
       "1    Male           yes       1           0  \n",
       "2  Female           yes       0           0  \n",
       "3  Female            no       0           1  \n",
       "4    Male            no       0           0  "
      ]
     },
     "execution_count": 65,
     "metadata": {},
     "output_type": "execute_result"
    }
   ],
   "source": [
    "df_logreg = pd.concat([X_test.reset_index(drop=True), y_test.reset_index(drop=True)], axis=1)\n",
    "df_logreg['Prediction'] = y_logreg_pred\n",
    "df_logreg.head()"
   ]
  },
  {
   "cell_type": "code",
   "execution_count": 43,
   "metadata": {},
   "outputs": [
    {
     "name": "stdout",
     "output_type": "stream",
     "text": [
      "F1 Score - All - Cross Validation  :  [0.69049904 0.70272813 0.70450751]\n",
      "F1 Score - Mean - Cross Validation :  0.6992448935892543\n",
      "F1 Score - Std - Cross Validation  :  0.006226770944694966\n",
      "F1 Score - Range of Test-Set       :  0.6930181226445594 - 0.7054716645339493\n"
     ]
    }
   ],
   "source": [
    "# menggunakan StratifiedKFold untuk cross-validation\n",
    "stratified_kfold = StratifiedKFold(n_splits=3, shuffle=True, random_state=42)\n",
    "\n",
    "# mendefinisikan F1 scorer untuk cross validation\n",
    "f1_scorer = make_scorer(f1_score)\n",
    "\n",
    "# menghitung cross validation\n",
    "f1_train_cross_val = cross_val_score(model_logreg, X_train, y_train, cv=stratified_kfold, scoring=f1_scorer)\n",
    "\n",
    "# menampilkan hasil\n",
    "print('F1 Score - All - Cross Validation  : ', f1_train_cross_val)\n",
    "print('F1 Score - Mean - Cross Validation : ', f1_train_cross_val.mean())\n",
    "print('F1 Score - Std - Cross Validation  : ', f1_train_cross_val.std())\n",
    "print('F1 Score - Range of Test-Set       : ', (f1_train_cross_val.mean() - f1_train_cross_val.std()), '-', (f1_train_cross_val.mean() + f1_train_cross_val.std()))"
   ]
  },
  {
   "cell_type": "markdown",
   "metadata": {},
   "source": [
    "## Support Vector Machine (SVM)"
   ]
  },
  {
   "cell_type": "code",
   "execution_count": 44,
   "metadata": {},
   "outputs": [
    {
     "name": "stdout",
     "output_type": "stream",
     "text": [
      "Training Score:  0.771\n",
      "Testing Score:  0.7819\n"
     ]
    }
   ],
   "source": [
    "# fit model pada train set\n",
    "model_svm.fit(X_train, y_train)\n",
    "# predict model pada test set\n",
    "y_svm_pred = model_svm.predict(X_test)\n",
    "# Menampilkan nilai akurasi training dan testing\n",
    "print('Training Score: ',round(model_svm.score(X_train, y_train),4))\n",
    "print('Testing Score: ', round(model_svm.score(X_test, y_test),4))"
   ]
  },
  {
   "cell_type": "code",
   "execution_count": 45,
   "metadata": {},
   "outputs": [
    {
     "name": "stdout",
     "output_type": "stream",
     "text": [
      "              precision    recall  f1-score   support\n",
      "\n",
      "          No       0.75      0.84      0.79      1593\n",
      "         Yes       0.82      0.73      0.77      1593\n",
      "\n",
      "    accuracy                           0.78      3186\n",
      "   macro avg       0.79      0.78      0.78      3186\n",
      "weighted avg       0.79      0.78      0.78      3186\n",
      "\n"
     ]
    }
   ],
   "source": [
    "# Mendefinisikan target\n",
    "target = ['No', 'Yes']\n",
    "# menampilkan classification report\n",
    "print(classification_report(y_test, y_svm_pred, target_names=target))"
   ]
  },
  {
   "cell_type": "code",
   "execution_count": 49,
   "metadata": {},
   "outputs": [
    {
     "data": {
      "text/plain": [
       "<Axes: >"
      ]
     },
     "execution_count": 49,
     "metadata": {},
     "output_type": "execute_result"
    },
    {
     "data": {
      "image/png": "[encoded data removed]",
      "text/plain": [
       "<Figure size 640x480 with 2 Axes>"
      ]
     },
     "metadata": {},
     "output_type": "display_data"
    }
   ],
   "source": [
    "sns.heatmap(confusion_matrix(y_test,y_svm_pred), annot=True, fmt='d')"
   ]
  },
  {
   "cell_type": "code",
   "execution_count": 64,
   "metadata": {},
   "outputs": [
    {
     "data": {
      "text/html": [
       "<div>\n",
       "<style scoped>\n",
       "    .dataframe tbody tr th:only-of-type {\n",
       "        vertical-align: middle;\n",
       "    }\n",
       "\n",
       "    .dataframe tbody tr th {\n",
       "        vertical-align: top;\n",
       "    }\n",
       "\n",
       "    .dataframe thead th {\n",
       "        text-align: right;\n",
       "    }\n",
       "</style>\n",
       "<table border=\"1\" class=\"dataframe\">\n",
       "  <thead>\n",
       "    <tr style=\"text-align: right;\">\n",
       "      <th></th>\n",
       "      <th>credit_score</th>\n",
       "      <th>age</th>\n",
       "      <th>balance</th>\n",
       "      <th>num_of_products</th>\n",
       "      <th>estimated_salary</th>\n",
       "      <th>geography</th>\n",
       "      <th>gender</th>\n",
       "      <th>active_member</th>\n",
       "      <th>exited</th>\n",
       "      <th>Prediction</th>\n",
       "    </tr>\n",
       "  </thead>\n",
       "  <tbody>\n",
       "    <tr>\n",
       "      <th>0</th>\n",
       "      <td>564.0</td>\n",
       "      <td>31.0</td>\n",
       "      <td>125175.58</td>\n",
       "      <td>1.0</td>\n",
       "      <td>72757.33</td>\n",
       "      <td>Spain</td>\n",
       "      <td>Male</td>\n",
       "      <td>yes</td>\n",
       "      <td>0</td>\n",
       "      <td>0</td>\n",
       "    </tr>\n",
       "    <tr>\n",
       "      <th>1</th>\n",
       "      <td>503.00298</td>\n",
       "      <td>28.0</td>\n",
       "      <td>122384.22</td>\n",
       "      <td>3.0</td>\n",
       "      <td>89017.38</td>\n",
       "      <td>Germany</td>\n",
       "      <td>Male</td>\n",
       "      <td>yes</td>\n",
       "      <td>1</td>\n",
       "      <td>0</td>\n",
       "    </tr>\n",
       "    <tr>\n",
       "      <th>2</th>\n",
       "      <td>794.0</td>\n",
       "      <td>28.0</td>\n",
       "      <td>0.0</td>\n",
       "      <td>2.0</td>\n",
       "      <td>86699.98</td>\n",
       "      <td>Spain</td>\n",
       "      <td>Female</td>\n",
       "      <td>yes</td>\n",
       "      <td>0</td>\n",
       "      <td>0</td>\n",
       "    </tr>\n",
       "    <tr>\n",
       "      <th>3</th>\n",
       "      <td>712.0</td>\n",
       "      <td>44.0</td>\n",
       "      <td>0.0</td>\n",
       "      <td>2.0</td>\n",
       "      <td>45738.94</td>\n",
       "      <td>Spain</td>\n",
       "      <td>Female</td>\n",
       "      <td>no</td>\n",
       "      <td>0</td>\n",
       "      <td>1</td>\n",
       "    </tr>\n",
       "    <tr>\n",
       "      <th>4</th>\n",
       "      <td>503.00298</td>\n",
       "      <td>19.0</td>\n",
       "      <td>125860.2</td>\n",
       "      <td>1.0</td>\n",
       "      <td>129690.5</td>\n",
       "      <td>Germany</td>\n",
       "      <td>Male</td>\n",
       "      <td>no</td>\n",
       "      <td>0</td>\n",
       "      <td>0</td>\n",
       "    </tr>\n",
       "  </tbody>\n",
       "</table>\n",
       "</div>"
      ],
      "text/plain": [
       "  credit_score   age    balance num_of_products estimated_salary geography  \\\n",
       "0        564.0  31.0  125175.58             1.0         72757.33     Spain   \n",
       "1    503.00298  28.0  122384.22             3.0         89017.38   Germany   \n",
       "2        794.0  28.0        0.0             2.0         86699.98     Spain   \n",
       "3        712.0  44.0        0.0             2.0         45738.94     Spain   \n",
       "4    503.00298  19.0   125860.2             1.0         129690.5   Germany   \n",
       "\n",
       "   gender active_member  exited  Prediction  \n",
       "0    Male           yes       0           0  \n",
       "1    Male           yes       1           0  \n",
       "2  Female           yes       0           0  \n",
       "3  Female            no       0           1  \n",
       "4    Male            no       0           0  "
      ]
     },
     "execution_count": 64,
     "metadata": {},
     "output_type": "execute_result"
    }
   ],
   "source": [
    "df_svm = pd.concat([X_test.reset_index(drop=True), y_test.reset_index(drop=True)], axis=1)\n",
    "df_svm['Prediction'] = y_svm_pred\n",
    "df_svm.head()"
   ]
  },
  {
   "cell_type": "code",
   "execution_count": 63,
   "metadata": {},
   "outputs": [
    {
     "name": "stdout",
     "output_type": "stream",
     "text": [
      "F1 Score - All - Cross Validation  :  [0.74746976 0.75712546 0.7331833 ]\n",
      "F1 Score - Mean - Cross Validation :  0.7459261710456516\n",
      "F1 Score - Std - Cross Validation  :  0.009835099355462288\n",
      "F1 Score - Range of Test-Set       :  0.7360910716901893 - 0.755761270401114\n"
     ]
    }
   ],
   "source": [
    "# menggunakan StratifiedKFold untuk cross-validation\n",
    "stratified_kfold = StratifiedKFold(n_splits=3, shuffle=True, random_state=42)\n",
    "\n",
    "# mendefinisikan F1 scorer untuk cross validation\n",
    "f1_scorer = make_scorer(f1_score)\n",
    "\n",
    "# menghitung cross validation\n",
    "f1_train_cross_val = cross_val_score(model_svm, X_train, y_train, cv=stratified_kfold, scoring=f1_scorer)\n",
    "\n",
    "# menampilkan hasil\n",
    "print('F1 Score - All - Cross Validation  : ', f1_train_cross_val)\n",
    "print('F1 Score - Mean - Cross Validation : ', f1_train_cross_val.mean())\n",
    "print('F1 Score - Std - Cross Validation  : ', f1_train_cross_val.std())\n",
    "print('F1 Score - Range of Test-Set       : ', (f1_train_cross_val.mean() - f1_train_cross_val.std()), '-', (f1_train_cross_val.mean() + f1_train_cross_val.std()))"
   ]
  },
  {
   "cell_type": "markdown",
   "metadata": {},
   "source": [
    "## KNN"
   ]
  },
  {
   "cell_type": "code",
   "execution_count": 66,
   "metadata": {},
   "outputs": [
    {
     "name": "stdout",
     "output_type": "stream",
     "text": [
      "Training Score:  0.881\n",
      "Testing Score:  0.8227\n"
     ]
    }
   ],
   "source": [
    "# fit model pada train set\n",
    "model_knn.fit(X_train, y_train)\n",
    "# predict model pada test set\n",
    "y_knn_pred = model_knn.predict(X_test)\n",
    "# Menampilkan nilai akurasi training dan testing\n",
    "print('Training Score: ',round(model_knn.score(X_train, y_train),4))\n",
    "print('Testing Score: ', round(model_knn.score(X_test, y_test),4))"
   ]
  },
  {
   "cell_type": "code",
   "execution_count": 67,
   "metadata": {},
   "outputs": [
    {
     "name": "stdout",
     "output_type": "stream",
     "text": [
      "              precision    recall  f1-score   support\n",
      "\n",
      "           0       0.87      0.76      0.81      1593\n",
      "           1       0.79      0.88      0.83      1593\n",
      "\n",
      "    accuracy                           0.82      3186\n",
      "   macro avg       0.83      0.82      0.82      3186\n",
      "weighted avg       0.83      0.82      0.82      3186\n",
      "\n"
     ]
    }
   ],
   "source": [
    "# menampilkan classification report\n",
    "print(classification_report(y_test, y_knn_pred))"
   ]
  },
  {
   "cell_type": "code",
   "execution_count": 68,
   "metadata": {},
   "outputs": [
    {
     "data": {
      "text/plain": [
       "<Axes: >"
      ]
     },
     "execution_count": 68,
     "metadata": {},
     "output_type": "execute_result"
    },
    {
     "data": {
      "image/png": "[encoded data removed]",
      "text/plain": [
       "<Figure size 640x480 with 2 Axes>"
      ]
     },
     "metadata": {},
     "output_type": "display_data"
    }
   ],
   "source": [
    "sns.heatmap(confusion_matrix(y_test,y_knn_pred), annot=True, fmt='d')"
   ]
  },
  {
   "cell_type": "code",
   "execution_count": 69,
   "metadata": {},
   "outputs": [
    {
     "data": {
      "text/html": [
       "<div>\n",
       "<style scoped>\n",
       "    .dataframe tbody tr th:only-of-type {\n",
       "        vertical-align: middle;\n",
       "    }\n",
       "\n",
       "    .dataframe tbody tr th {\n",
       "        vertical-align: top;\n",
       "    }\n",
       "\n",
       "    .dataframe thead th {\n",
       "        text-align: right;\n",
       "    }\n",
       "</style>\n",
       "<table border=\"1\" class=\"dataframe\">\n",
       "  <thead>\n",
       "    <tr style=\"text-align: right;\">\n",
       "      <th></th>\n",
       "      <th>credit_score</th>\n",
       "      <th>age</th>\n",
       "      <th>balance</th>\n",
       "      <th>num_of_products</th>\n",
       "      <th>estimated_salary</th>\n",
       "      <th>geography</th>\n",
       "      <th>gender</th>\n",
       "      <th>active_member</th>\n",
       "      <th>exited</th>\n",
       "      <th>Prediction</th>\n",
       "    </tr>\n",
       "  </thead>\n",
       "  <tbody>\n",
       "    <tr>\n",
       "      <th>0</th>\n",
       "      <td>564.0</td>\n",
       "      <td>31.0</td>\n",
       "      <td>125175.58</td>\n",
       "      <td>1.0</td>\n",
       "      <td>72757.33</td>\n",
       "      <td>Spain</td>\n",
       "      <td>Male</td>\n",
       "      <td>yes</td>\n",
       "      <td>0</td>\n",
       "      <td>0</td>\n",
       "    </tr>\n",
       "    <tr>\n",
       "      <th>1</th>\n",
       "      <td>503.00298</td>\n",
       "      <td>28.0</td>\n",
       "      <td>122384.22</td>\n",
       "      <td>3.0</td>\n",
       "      <td>89017.38</td>\n",
       "      <td>Germany</td>\n",
       "      <td>Male</td>\n",
       "      <td>yes</td>\n",
       "      <td>1</td>\n",
       "      <td>1</td>\n",
       "    </tr>\n",
       "    <tr>\n",
       "      <th>2</th>\n",
       "      <td>794.0</td>\n",
       "      <td>28.0</td>\n",
       "      <td>0.0</td>\n",
       "      <td>2.0</td>\n",
       "      <td>86699.98</td>\n",
       "      <td>Spain</td>\n",
       "      <td>Female</td>\n",
       "      <td>yes</td>\n",
       "      <td>0</td>\n",
       "      <td>0</td>\n",
       "    </tr>\n",
       "    <tr>\n",
       "      <th>3</th>\n",
       "      <td>712.0</td>\n",
       "      <td>44.0</td>\n",
       "      <td>0.0</td>\n",
       "      <td>2.0</td>\n",
       "      <td>45738.94</td>\n",
       "      <td>Spain</td>\n",
       "      <td>Female</td>\n",
       "      <td>no</td>\n",
       "      <td>0</td>\n",
       "      <td>1</td>\n",
       "    </tr>\n",
       "    <tr>\n",
       "      <th>4</th>\n",
       "      <td>503.00298</td>\n",
       "      <td>19.0</td>\n",
       "      <td>125860.2</td>\n",
       "      <td>1.0</td>\n",
       "      <td>129690.5</td>\n",
       "      <td>Germany</td>\n",
       "      <td>Male</td>\n",
       "      <td>no</td>\n",
       "      <td>0</td>\n",
       "      <td>1</td>\n",
       "    </tr>\n",
       "  </tbody>\n",
       "</table>\n",
       "</div>"
      ],
      "text/plain": [
       "  credit_score   age    balance num_of_products estimated_salary geography  \\\n",
       "0        564.0  31.0  125175.58             1.0         72757.33     Spain   \n",
       "1    503.00298  28.0  122384.22             3.0         89017.38   Germany   \n",
       "2        794.0  28.0        0.0             2.0         86699.98     Spain   \n",
       "3        712.0  44.0        0.0             2.0         45738.94     Spain   \n",
       "4    503.00298  19.0   125860.2             1.0         129690.5   Germany   \n",
       "\n",
       "   gender active_member  exited  Prediction  \n",
       "0    Male           yes       0           0  \n",
       "1    Male           yes       1           1  \n",
       "2  Female           yes       0           0  \n",
       "3  Female            no       0           1  \n",
       "4    Male            no       0           1  "
      ]
     },
     "execution_count": 69,
     "metadata": {},
     "output_type": "execute_result"
    }
   ],
   "source": [
    "df_knn = pd.concat([X_test.reset_index(drop=True), y_test.reset_index(drop=True)], axis=1)\n",
    "df_knn['Prediction'] = y_knn_pred\n",
    "df_knn.head()"
   ]
  },
  {
   "cell_type": "code",
   "execution_count": 70,
   "metadata": {},
   "outputs": [
    {
     "name": "stdout",
     "output_type": "stream",
     "text": [
      "F1 Score - All - Cross Validation  :  [0.79865622 0.80314607 0.7865477 ]\n",
      "F1 Score - Mean - Cross Validation :  0.7961166610587685\n",
      "F1 Score - Std - Cross Validation  :  0.007010156661961158\n",
      "F1 Score - Range of Test-Set       :  0.7891065043968074 - 0.8031268177207297\n"
     ]
    }
   ],
   "source": [
    "# menggunakan StratifiedKFold untuk cross-validation\n",
    "stratified_kfold = StratifiedKFold(n_splits=3, shuffle=True, random_state=42)\n",
    "\n",
    "# mendefinisikan F1 scorer untuk cross validation\n",
    "f1_scorer = make_scorer(f1_score)\n",
    "\n",
    "# menghitung cross validation\n",
    "f1_train_cross_val = cross_val_score(model_knn, X_train, y_train, cv=stratified_kfold, scoring=f1_scorer)\n",
    "\n",
    "# menampilkan hasil\n",
    "print('F1 Score - All - Cross Validation  : ', f1_train_cross_val)\n",
    "print('F1 Score - Mean - Cross Validation : ', f1_train_cross_val.mean())\n",
    "print('F1 Score - Std - Cross Validation  : ', f1_train_cross_val.std())\n",
    "print('F1 Score - Range of Test-Set       : ', (f1_train_cross_val.mean() - f1_train_cross_val.std()), '-', (f1_train_cross_val.mean() + f1_train_cross_val.std()))"
   ]
  },
  {
   "cell_type": "markdown",
   "metadata": {},
   "source": [
    "## Random Forest"
   ]
  },
  {
   "cell_type": "code",
   "execution_count": 71,
   "metadata": {},
   "outputs": [
    {
     "name": "stdout",
     "output_type": "stream",
     "text": [
      "Training Score:  1.0\n",
      "Testing Score:  0.9507\n"
     ]
    }
   ],
   "source": [
    "# fit model pada train set\n",
    "model_rf.fit(X_train, y_train)\n",
    "# predict model pada test set\n",
    "y_rf_pred = model_rf.predict(X_test)\n",
    "# Menampilkan nilai akurasi training dan testing\n",
    "print('Training Score: ',round(model_rf.score(X_train, y_train),4))\n",
    "print('Testing Score: ', round(model_rf.score(X_test, y_test),4))"
   ]
  },
  {
   "cell_type": "code",
   "execution_count": 72,
   "metadata": {},
   "outputs": [
    {
     "name": "stdout",
     "output_type": "stream",
     "text": [
      "              precision    recall  f1-score   support\n",
      "\n",
      "           0       0.98      0.92      0.95      1593\n",
      "           1       0.93      0.98      0.95      1593\n",
      "\n",
      "    accuracy                           0.95      3186\n",
      "   macro avg       0.95      0.95      0.95      3186\n",
      "weighted avg       0.95      0.95      0.95      3186\n",
      "\n"
     ]
    }
   ],
   "source": [
    "# menampilkan classification report\n",
    "print(classification_report(y_test, y_rf_pred))"
   ]
  },
  {
   "cell_type": "code",
   "execution_count": 73,
   "metadata": {},
   "outputs": [
    {
     "data": {
      "text/plain": [
       "<Axes: >"
      ]
     },
     "execution_count": 73,
     "metadata": {},
     "output_type": "execute_result"
    },
    {
     "data": {
      "image/png": "[encoded data removed]",
      "text/plain": [
       "<Figure size 640x480 with 2 Axes>"
      ]
     },
     "metadata": {},
     "output_type": "display_data"
    }
   ],
   "source": [
    "sns.heatmap(confusion_matrix(y_test,y_rf_pred), annot=True, fmt='d')"
   ]
  },
  {
   "cell_type": "code",
   "execution_count": 74,
   "metadata": {},
   "outputs": [
    {
     "data": {
      "text/html": [
       "<div>\n",
       "<style scoped>\n",
       "    .dataframe tbody tr th:only-of-type {\n",
       "        vertical-align: middle;\n",
       "    }\n",
       "\n",
       "    .dataframe tbody tr th {\n",
       "        vertical-align: top;\n",
       "    }\n",
       "\n",
       "    .dataframe thead th {\n",
       "        text-align: right;\n",
       "    }\n",
       "</style>\n",
       "<table border=\"1\" class=\"dataframe\">\n",
       "  <thead>\n",
       "    <tr style=\"text-align: right;\">\n",
       "      <th></th>\n",
       "      <th>credit_score</th>\n",
       "      <th>age</th>\n",
       "      <th>balance</th>\n",
       "      <th>num_of_products</th>\n",
       "      <th>estimated_salary</th>\n",
       "      <th>geography</th>\n",
       "      <th>gender</th>\n",
       "      <th>active_member</th>\n",
       "      <th>exited</th>\n",
       "      <th>Prediction</th>\n",
       "    </tr>\n",
       "  </thead>\n",
       "  <tbody>\n",
       "    <tr>\n",
       "      <th>0</th>\n",
       "      <td>564.0</td>\n",
       "      <td>31.0</td>\n",
       "      <td>125175.58</td>\n",
       "      <td>1.0</td>\n",
       "      <td>72757.33</td>\n",
       "      <td>Spain</td>\n",
       "      <td>Male</td>\n",
       "      <td>yes</td>\n",
       "      <td>0</td>\n",
       "      <td>0</td>\n",
       "    </tr>\n",
       "    <tr>\n",
       "      <th>1</th>\n",
       "      <td>503.00298</td>\n",
       "      <td>28.0</td>\n",
       "      <td>122384.22</td>\n",
       "      <td>3.0</td>\n",
       "      <td>89017.38</td>\n",
       "      <td>Germany</td>\n",
       "      <td>Male</td>\n",
       "      <td>yes</td>\n",
       "      <td>1</td>\n",
       "      <td>1</td>\n",
       "    </tr>\n",
       "    <tr>\n",
       "      <th>2</th>\n",
       "      <td>794.0</td>\n",
       "      <td>28.0</td>\n",
       "      <td>0.0</td>\n",
       "      <td>2.0</td>\n",
       "      <td>86699.98</td>\n",
       "      <td>Spain</td>\n",
       "      <td>Female</td>\n",
       "      <td>yes</td>\n",
       "      <td>0</td>\n",
       "      <td>0</td>\n",
       "    </tr>\n",
       "    <tr>\n",
       "      <th>3</th>\n",
       "      <td>712.0</td>\n",
       "      <td>44.0</td>\n",
       "      <td>0.0</td>\n",
       "      <td>2.0</td>\n",
       "      <td>45738.94</td>\n",
       "      <td>Spain</td>\n",
       "      <td>Female</td>\n",
       "      <td>no</td>\n",
       "      <td>0</td>\n",
       "      <td>0</td>\n",
       "    </tr>\n",
       "    <tr>\n",
       "      <th>4</th>\n",
       "      <td>503.00298</td>\n",
       "      <td>19.0</td>\n",
       "      <td>125860.2</td>\n",
       "      <td>1.0</td>\n",
       "      <td>129690.5</td>\n",
       "      <td>Germany</td>\n",
       "      <td>Male</td>\n",
       "      <td>no</td>\n",
       "      <td>0</td>\n",
       "      <td>0</td>\n",
       "    </tr>\n",
       "  </tbody>\n",
       "</table>\n",
       "</div>"
      ],
      "text/plain": [
       "  credit_score   age    balance num_of_products estimated_salary geography  \\\n",
       "0        564.0  31.0  125175.58             1.0         72757.33     Spain   \n",
       "1    503.00298  28.0  122384.22             3.0         89017.38   Germany   \n",
       "2        794.0  28.0        0.0             2.0         86699.98     Spain   \n",
       "3        712.0  44.0        0.0             2.0         45738.94     Spain   \n",
       "4    503.00298  19.0   125860.2             1.0         129690.5   Germany   \n",
       "\n",
       "   gender active_member  exited  Prediction  \n",
       "0    Male           yes       0           0  \n",
       "1    Male           yes       1           1  \n",
       "2  Female           yes       0           0  \n",
       "3  Female            no       0           0  \n",
       "4    Male            no       0           0  "
      ]
     },
     "execution_count": 74,
     "metadata": {},
     "output_type": "execute_result"
    }
   ],
   "source": [
    "df_rf = pd.concat([X_test.reset_index(drop=True), y_test.reset_index(drop=True)], axis=1)\n",
    "df_rf['Prediction'] = y_rf_pred\n",
    "df_rf.head()"
   ]
  },
  {
   "cell_type": "code",
   "execution_count": 75,
   "metadata": {},
   "outputs": [
    {
     "name": "stdout",
     "output_type": "stream",
     "text": [
      "F1 Score - All - Cross Validation  :  [0.92135856 0.91534631 0.9213894 ]\n",
      "F1 Score - Mean - Cross Validation :  0.9193647555456897\n",
      "F1 Score - Std - Cross Validation  :  0.00284149759648728\n",
      "F1 Score - Range of Test-Set       :  0.9165232579492024 - 0.9222062531421771\n"
     ]
    }
   ],
   "source": [
    "# menggunakan StratifiedKFold untuk cross-validation\n",
    "stratified_kfold = StratifiedKFold(n_splits=3, shuffle=True, random_state=42)\n",
    "\n",
    "# mendefinisikan F1 scorer untuk cross validation\n",
    "f1_scorer = make_scorer(f1_score)\n",
    "\n",
    "# menghitung cross validation\n",
    "f1_train_cross_val = cross_val_score(model_rf, X_train, y_train, cv=stratified_kfold, scoring=f1_scorer)\n",
    "\n",
    "# menampilkan hasil\n",
    "print('F1 Score - All - Cross Validation  : ', f1_train_cross_val)\n",
    "print('F1 Score - Mean - Cross Validation : ', f1_train_cross_val.mean())\n",
    "print('F1 Score - Std - Cross Validation  : ', f1_train_cross_val.std())\n",
    "print('F1 Score - Range of Test-Set       : ', (f1_train_cross_val.mean() - f1_train_cross_val.std()), '-', (f1_train_cross_val.mean() + f1_train_cross_val.std()))"
   ]
  },
  {
   "cell_type": "markdown",
   "metadata": {},
   "source": [
    "## Decision Tree"
   ]
  },
  {
   "cell_type": "code",
   "execution_count": 76,
   "metadata": {},
   "outputs": [
    {
     "name": "stdout",
     "output_type": "stream",
     "text": [
      "Training Score:  1.0\n",
      "Testing Score:  0.9231\n"
     ]
    }
   ],
   "source": [
    "# fit model pada train set\n",
    "model_dt.fit(X_train, y_train)\n",
    "# predict model pada test set\n",
    "y_dt_pred = model_dt.predict(X_test)\n",
    "# Menampilkan nilai akurasi training dan testing\n",
    "print('Training Score: ',round(model_dt.score(X_train, y_train),4))\n",
    "print('Testing Score: ', round(model_dt.score(X_test, y_test),4))"
   ]
  },
  {
   "cell_type": "code",
   "execution_count": 77,
   "metadata": {},
   "outputs": [
    {
     "name": "stdout",
     "output_type": "stream",
     "text": [
      "              precision    recall  f1-score   support\n",
      "\n",
      "           0       0.98      0.87      0.92      1593\n",
      "           1       0.88      0.98      0.93      1593\n",
      "\n",
      "    accuracy                           0.92      3186\n",
      "   macro avg       0.93      0.92      0.92      3186\n",
      "weighted avg       0.93      0.92      0.92      3186\n",
      "\n"
     ]
    }
   ],
   "source": [
    "# menampilkan classification report\n",
    "print(classification_report(y_test, y_dt_pred))"
   ]
  },
  {
   "cell_type": "code",
   "execution_count": 78,
   "metadata": {},
   "outputs": [
    {
     "data": {
      "text/plain": [
       "<Axes: >"
      ]
     },
     "execution_count": 78,
     "metadata": {},
     "output_type": "execute_result"
    },
    {
     "data": {
      "image/png": "[encoded data removed]",
      "text/plain": [
       "<Figure size 640x480 with 2 Axes>"
      ]
     },
     "metadata": {},
     "output_type": "display_data"
    }
   ],
   "source": [
    "sns.heatmap(confusion_matrix(y_test,y_dt_pred), annot=True, fmt='d')"
   ]
  },
  {
   "cell_type": "code",
   "execution_count": 79,
   "metadata": {},
   "outputs": [
    {
     "data": {
      "text/html": [
       "<div>\n",
       "<style scoped>\n",
       "    .dataframe tbody tr th:only-of-type {\n",
       "        vertical-align: middle;\n",
       "    }\n",
       "\n",
       "    .dataframe tbody tr th {\n",
       "        vertical-align: top;\n",
       "    }\n",
       "\n",
       "    .dataframe thead th {\n",
       "        text-align: right;\n",
       "    }\n",
       "</style>\n",
       "<table border=\"1\" class=\"dataframe\">\n",
       "  <thead>\n",
       "    <tr style=\"text-align: right;\">\n",
       "      <th></th>\n",
       "      <th>credit_score</th>\n",
       "      <th>age</th>\n",
       "      <th>balance</th>\n",
       "      <th>num_of_products</th>\n",
       "      <th>estimated_salary</th>\n",
       "      <th>geography</th>\n",
       "      <th>gender</th>\n",
       "      <th>active_member</th>\n",
       "      <th>exited</th>\n",
       "      <th>Prediction</th>\n",
       "    </tr>\n",
       "  </thead>\n",
       "  <tbody>\n",
       "    <tr>\n",
       "      <th>0</th>\n",
       "      <td>564.0</td>\n",
       "      <td>31.0</td>\n",
       "      <td>125175.58</td>\n",
       "      <td>1.0</td>\n",
       "      <td>72757.33</td>\n",
       "      <td>Spain</td>\n",
       "      <td>Male</td>\n",
       "      <td>yes</td>\n",
       "      <td>0</td>\n",
       "      <td>0</td>\n",
       "    </tr>\n",
       "    <tr>\n",
       "      <th>1</th>\n",
       "      <td>503.00298</td>\n",
       "      <td>28.0</td>\n",
       "      <td>122384.22</td>\n",
       "      <td>3.0</td>\n",
       "      <td>89017.38</td>\n",
       "      <td>Germany</td>\n",
       "      <td>Male</td>\n",
       "      <td>yes</td>\n",
       "      <td>1</td>\n",
       "      <td>1</td>\n",
       "    </tr>\n",
       "    <tr>\n",
       "      <th>2</th>\n",
       "      <td>794.0</td>\n",
       "      <td>28.0</td>\n",
       "      <td>0.0</td>\n",
       "      <td>2.0</td>\n",
       "      <td>86699.98</td>\n",
       "      <td>Spain</td>\n",
       "      <td>Female</td>\n",
       "      <td>yes</td>\n",
       "      <td>0</td>\n",
       "      <td>0</td>\n",
       "    </tr>\n",
       "    <tr>\n",
       "      <th>3</th>\n",
       "      <td>712.0</td>\n",
       "      <td>44.0</td>\n",
       "      <td>0.0</td>\n",
       "      <td>2.0</td>\n",
       "      <td>45738.94</td>\n",
       "      <td>Spain</td>\n",
       "      <td>Female</td>\n",
       "      <td>no</td>\n",
       "      <td>0</td>\n",
       "      <td>0</td>\n",
       "    </tr>\n",
       "    <tr>\n",
       "      <th>4</th>\n",
       "      <td>503.00298</td>\n",
       "      <td>19.0</td>\n",
       "      <td>125860.2</td>\n",
       "      <td>1.0</td>\n",
       "      <td>129690.5</td>\n",
       "      <td>Germany</td>\n",
       "      <td>Male</td>\n",
       "      <td>no</td>\n",
       "      <td>0</td>\n",
       "      <td>1</td>\n",
       "    </tr>\n",
       "  </tbody>\n",
       "</table>\n",
       "</div>"
      ],
      "text/plain": [
       "  credit_score   age    balance num_of_products estimated_salary geography  \\\n",
       "0        564.0  31.0  125175.58             1.0         72757.33     Spain   \n",
       "1    503.00298  28.0  122384.22             3.0         89017.38   Germany   \n",
       "2        794.0  28.0        0.0             2.0         86699.98     Spain   \n",
       "3        712.0  44.0        0.0             2.0         45738.94     Spain   \n",
       "4    503.00298  19.0   125860.2             1.0         129690.5   Germany   \n",
       "\n",
       "   gender active_member  exited  Prediction  \n",
       "0    Male           yes       0           0  \n",
       "1    Male           yes       1           1  \n",
       "2  Female           yes       0           0  \n",
       "3  Female            no       0           0  \n",
       "4    Male            no       0           1  "
      ]
     },
     "execution_count": 79,
     "metadata": {},
     "output_type": "execute_result"
    }
   ],
   "source": [
    "df_dt = pd.concat([X_test.reset_index(drop=True), y_test.reset_index(drop=True)], axis=1)\n",
    "df_dt['Prediction'] = y_dt_pred\n",
    "df_dt.head()"
   ]
  },
  {
   "cell_type": "code",
   "execution_count": 80,
   "metadata": {},
   "outputs": [
    {
     "name": "stdout",
     "output_type": "stream",
     "text": [
      "F1 Score - All - Cross Validation  :  [0.89585666 0.88933068 0.89181352]\n",
      "F1 Score - Mean - Cross Validation :  0.8923336210796101\n",
      "F1 Score - Std - Cross Validation  :  0.002689483908535766\n",
      "F1 Score - Range of Test-Set       :  0.8896441371710744 - 0.8950231049881459\n"
     ]
    }
   ],
   "source": [
    "# menggunakan StratifiedKFold untuk cross-validation\n",
    "stratified_kfold = StratifiedKFold(n_splits=3, shuffle=True, random_state=42)\n",
    "\n",
    "# mendefinisikan F1 scorer untuk cross validation\n",
    "f1_scorer = make_scorer(f1_score)\n",
    "\n",
    "# menghitung cross validation\n",
    "f1_train_cross_val = cross_val_score(model_dt, X_train, y_train, cv=stratified_kfold, scoring=f1_scorer)\n",
    "\n",
    "# menampilkan hasil\n",
    "print('F1 Score - All - Cross Validation  : ', f1_train_cross_val)\n",
    "print('F1 Score - Mean - Cross Validation : ', f1_train_cross_val.mean())\n",
    "print('F1 Score - Std - Cross Validation  : ', f1_train_cross_val.std())\n",
    "print('F1 Score - Range of Test-Set       : ', (f1_train_cross_val.mean() - f1_train_cross_val.std()), '-', (f1_train_cross_val.mean() + f1_train_cross_val.std()))"
   ]
  },
  {
   "cell_type": "markdown",
   "metadata": {},
   "source": [
    "## XGBoost"
   ]
  },
  {
   "cell_type": "code",
   "execution_count": 81,
   "metadata": {},
   "outputs": [
    {
     "name": "stdout",
     "output_type": "stream",
     "text": [
      "Training Score:  0.9615\n",
      "Testing Score:  0.9093\n"
     ]
    }
   ],
   "source": [
    "# fit model pada train set\n",
    "model_xgb.fit(X_train, y_train)\n",
    "# predict model pada test set\n",
    "y_xgb_pred = model_xgb.predict(X_test)\n",
    "# Menampilkan nilai akurasi training dan testing\n",
    "print('Training Score: ',round(model_xgb.score(X_train, y_train),4))\n",
    "print('Testing Score: ', round(model_xgb.score(X_test, y_test),4))"
   ]
  },
  {
   "cell_type": "code",
   "execution_count": 82,
   "metadata": {},
   "outputs": [
    {
     "name": "stdout",
     "output_type": "stream",
     "text": [
      "              precision    recall  f1-score   support\n",
      "\n",
      "           0       0.93      0.88      0.91      1593\n",
      "           1       0.89      0.94      0.91      1593\n",
      "\n",
      "    accuracy                           0.91      3186\n",
      "   macro avg       0.91      0.91      0.91      3186\n",
      "weighted avg       0.91      0.91      0.91      3186\n",
      "\n"
     ]
    }
   ],
   "source": [
    "# menampilkan classification report\n",
    "print(classification_report(y_test, y_xgb_pred))"
   ]
  },
  {
   "cell_type": "code",
   "execution_count": 84,
   "metadata": {},
   "outputs": [
    {
     "data": {
      "text/plain": [
       "<Axes: >"
      ]
     },
     "execution_count": 84,
     "metadata": {},
     "output_type": "execute_result"
    },
    {
     "data": {
      "image/png": "[encoded data removed]",
      "text/plain": [
       "<Figure size 640x480 with 2 Axes>"
      ]
     },
     "metadata": {},
     "output_type": "display_data"
    }
   ],
   "source": [
    "sns.heatmap(confusion_matrix(y_test,y_xgb_pred), annot=True, fmt='d')"
   ]
  },
  {
   "cell_type": "code",
   "execution_count": 83,
   "metadata": {},
   "outputs": [
    {
     "data": {
      "text/html": [
       "<div>\n",
       "<style scoped>\n",
       "    .dataframe tbody tr th:only-of-type {\n",
       "        vertical-align: middle;\n",
       "    }\n",
       "\n",
       "    .dataframe tbody tr th {\n",
       "        vertical-align: top;\n",
       "    }\n",
       "\n",
       "    .dataframe thead th {\n",
       "        text-align: right;\n",
       "    }\n",
       "</style>\n",
       "<table border=\"1\" class=\"dataframe\">\n",
       "  <thead>\n",
       "    <tr style=\"text-align: right;\">\n",
       "      <th></th>\n",
       "      <th>credit_score</th>\n",
       "      <th>age</th>\n",
       "      <th>balance</th>\n",
       "      <th>num_of_products</th>\n",
       "      <th>estimated_salary</th>\n",
       "      <th>geography</th>\n",
       "      <th>gender</th>\n",
       "      <th>active_member</th>\n",
       "      <th>exited</th>\n",
       "      <th>Prediction</th>\n",
       "    </tr>\n",
       "  </thead>\n",
       "  <tbody>\n",
       "    <tr>\n",
       "      <th>0</th>\n",
       "      <td>564.0</td>\n",
       "      <td>31.0</td>\n",
       "      <td>125175.58</td>\n",
       "      <td>1.0</td>\n",
       "      <td>72757.33</td>\n",
       "      <td>Spain</td>\n",
       "      <td>Male</td>\n",
       "      <td>yes</td>\n",
       "      <td>0</td>\n",
       "      <td>0</td>\n",
       "    </tr>\n",
       "    <tr>\n",
       "      <th>1</th>\n",
       "      <td>503.00298</td>\n",
       "      <td>28.0</td>\n",
       "      <td>122384.22</td>\n",
       "      <td>3.0</td>\n",
       "      <td>89017.38</td>\n",
       "      <td>Germany</td>\n",
       "      <td>Male</td>\n",
       "      <td>yes</td>\n",
       "      <td>1</td>\n",
       "      <td>1</td>\n",
       "    </tr>\n",
       "    <tr>\n",
       "      <th>2</th>\n",
       "      <td>794.0</td>\n",
       "      <td>28.0</td>\n",
       "      <td>0.0</td>\n",
       "      <td>2.0</td>\n",
       "      <td>86699.98</td>\n",
       "      <td>Spain</td>\n",
       "      <td>Female</td>\n",
       "      <td>yes</td>\n",
       "      <td>0</td>\n",
       "      <td>0</td>\n",
       "    </tr>\n",
       "    <tr>\n",
       "      <th>3</th>\n",
       "      <td>712.0</td>\n",
       "      <td>44.0</td>\n",
       "      <td>0.0</td>\n",
       "      <td>2.0</td>\n",
       "      <td>45738.94</td>\n",
       "      <td>Spain</td>\n",
       "      <td>Female</td>\n",
       "      <td>no</td>\n",
       "      <td>0</td>\n",
       "      <td>0</td>\n",
       "    </tr>\n",
       "    <tr>\n",
       "      <th>4</th>\n",
       "      <td>503.00298</td>\n",
       "      <td>19.0</td>\n",
       "      <td>125860.2</td>\n",
       "      <td>1.0</td>\n",
       "      <td>129690.5</td>\n",
       "      <td>Germany</td>\n",
       "      <td>Male</td>\n",
       "      <td>no</td>\n",
       "      <td>0</td>\n",
       "      <td>0</td>\n",
       "    </tr>\n",
       "  </tbody>\n",
       "</table>\n",
       "</div>"
      ],
      "text/plain": [
       "  credit_score   age    balance num_of_products estimated_salary geography  \\\n",
       "0        564.0  31.0  125175.58             1.0         72757.33     Spain   \n",
       "1    503.00298  28.0  122384.22             3.0         89017.38   Germany   \n",
       "2        794.0  28.0        0.0             2.0         86699.98     Spain   \n",
       "3        712.0  44.0        0.0             2.0         45738.94     Spain   \n",
       "4    503.00298  19.0   125860.2             1.0         129690.5   Germany   \n",
       "\n",
       "   gender active_member  exited  Prediction  \n",
       "0    Male           yes       0           0  \n",
       "1    Male           yes       1           1  \n",
       "2  Female           yes       0           0  \n",
       "3  Female            no       0           0  \n",
       "4    Male            no       0           0  "
      ]
     },
     "execution_count": 83,
     "metadata": {},
     "output_type": "execute_result"
    }
   ],
   "source": [
    "df_xgb = pd.concat([X_test.reset_index(drop=True), y_test.reset_index(drop=True)], axis=1)\n",
    "df_xgb['Prediction'] = y_xgb_pred\n",
    "df_xgb.head()"
   ]
  },
  {
   "cell_type": "code",
   "execution_count": 85,
   "metadata": {},
   "outputs": [
    {
     "name": "stdout",
     "output_type": "stream",
     "text": [
      "F1 Score - All - Cross Validation  :  [0.88929636 0.87699317 0.87664892]\n",
      "F1 Score - Mean - Cross Validation :  0.8809794819552587\n",
      "F1 Score - Std - Cross Validation  :  0.005882596796648015\n",
      "F1 Score - Range of Test-Set       :  0.8750968851586106 - 0.8868620787519067\n"
     ]
    }
   ],
   "source": [
    "# menggunakan StratifiedKFold untuk cross-validation\n",
    "stratified_kfold = StratifiedKFold(n_splits=3, shuffle=True, random_state=42)\n",
    "\n",
    "# mendefinisikan F1 scorer untuk cross validation\n",
    "f1_scorer = make_scorer(f1_score)\n",
    "\n",
    "# menghitung cross validation\n",
    "f1_train_cross_val = cross_val_score(model_xgb, X_train, y_train, cv=stratified_kfold, scoring=f1_scorer)\n",
    "\n",
    "# menampilkan hasil\n",
    "print('F1 Score - All - Cross Validation  : ', f1_train_cross_val)\n",
    "print('F1 Score - Mean - Cross Validation : ', f1_train_cross_val.mean())\n",
    "print('F1 Score - Std - Cross Validation  : ', f1_train_cross_val.std())\n",
    "print('F1 Score - Range of Test-Set       : ', (f1_train_cross_val.mean() - f1_train_cross_val.std()), '-', (f1_train_cross_val.mean() + f1_train_cross_val.std()))"
   ]
  },
  {
   "cell_type": "markdown",
   "metadata": {},
   "source": [
    "# Model Optimization"
   ]
  },
  {
   "cell_type": "code",
   "execution_count": 133,
   "metadata": {},
   "outputs": [],
   "source": [
    "param_logreg = {\n",
    "    'classifier__penalty': ['l1', 'l2', 'elasticnet', 'none'],\n",
    "    'classifier__C': [0.001, 0.01, 0.1, 1, 10, 100],\n",
    "}\n",
    "\n",
    "param_knn = {\n",
    "    'classifier__n_neighbors': np.arange(2, 30, 1), \n",
    "    'classifier__weights': ['uniform', 'distance'], \n",
    "}\n",
    "param_dt = {\n",
    "    'classifier__criterion': ['gini', 'entropy'],\n",
    "    'classifier__max_depth': [5, 10, 15, 20],\n",
    "    'classifier__min_samples_leaf': [1, 2, 4],\n",
    "    'classifier__ccp_alpha': [0.0, 0.1, 0.2],\n",
    "}\n",
    "\n",
    "param_rf = {\n",
    "    'classifier__n_estimators': np.arange(300, 500, 20),\n",
    "    'classifier__max_depth': np.arange(4, 20, 2), \n",
    "    'classifier__min_samples_split': [2, 5, 10],\n",
    "}\n",
    "\n",
    "param_svm = {\n",
    "    'classifier__C': [0.1, 1, 10, 100],  \n",
    "    'classifier__gamma': [1, 0.1, 0.01, 0.001, 0.0001]  \n",
    "}\n",
    "\n",
    "param_xgb = {\n",
    "    'classifier__max_depth': np.arange(4, 15, 2),\n",
    "    'classifier__n_estimators': np.arange(300, 500, 15),\n",
    "    'classifier__learning_rate': [0.1, 0.01, 0.001, 0.0001],\n",
    "    'transformer__verbose': [0],\n",
    "}"
   ]
  },
  {
   "cell_type": "markdown",
   "metadata": {},
   "source": [
    "## GridSearchCV (All Models)"
   ]
  },
  {
   "cell_type": "code",
   "execution_count": 87,
   "metadata": {},
   "outputs": [],
   "source": [
    "# proses grid search untuk tuning hyperparameter secara paralel (Logistic Regression)\n",
    "grid_logreg = GridSearchCV(model_logreg, param_grid=param_logreg, cv=stratified_kfold, n_jobs=-1).fit(X_train, y_train)"
   ]
  },
  {
   "cell_type": "code",
   "execution_count": 88,
   "metadata": {},
   "outputs": [],
   "source": [
    "# proses grid search untuk tuning hyperparameter secara paralel (KNN)\n",
    "grid_knn = GridSearchCV(model_knn, param_grid=param_knn, cv=stratified_kfold, n_jobs=-1).fit(X_train, y_train)"
   ]
  },
  {
   "cell_type": "code",
   "execution_count": 134,
   "metadata": {},
   "outputs": [],
   "source": [
    "# proses grid search untuk tuning hyperparameter secara paralel (Random Forest)\n",
    "grid_rf = GridSearchCV(model_rf, param_grid=param_rf, cv=stratified_kfold, n_jobs=-1).fit(X_train, y_train)"
   ]
  },
  {
   "cell_type": "code",
   "execution_count": 90,
   "metadata": {},
   "outputs": [],
   "source": [
    "# proses grid search untuk tuning hyperparameter secara paralel (Decision Tree)\n",
    "grid_dt = GridSearchCV(model_dt, param_grid=param_dt, cv=stratified_kfold, n_jobs=-1).fit(X_train, y_train)"
   ]
  },
  {
   "cell_type": "code",
   "execution_count": 91,
   "metadata": {},
   "outputs": [],
   "source": [
    "# proses grid search untuk tuning hyperparameter secara paralel (SVM)\n",
    "grid_svc = GridSearchCV(model_svm, param_grid=param_svm, cv=stratified_kfold, n_jobs=-1).fit(X_train, y_train)"
   ]
  },
  {
   "cell_type": "code",
   "execution_count": 92,
   "metadata": {},
   "outputs": [],
   "source": [
    "# proses grid search untuk tuning hyperparameter secara paralel (XGBoost)\n",
    "grid_xgb = GridSearchCV(model_xgb, param_grid=param_xgb, cv=stratified_kfold, n_jobs=-1).fit(X_train, y_train)"
   ]
  },
  {
   "cell_type": "markdown",
   "metadata": {},
   "source": [
    "## Optimized Model Score"
   ]
  },
  {
   "cell_type": "code",
   "execution_count": 93,
   "metadata": {},
   "outputs": [
    {
     "name": "stdout",
     "output_type": "stream",
     "text": [
      "Train Set Score :  0.7025902668759811\n",
      "Test Set Score :  0.7156308851224106\n"
     ]
    }
   ],
   "source": [
    "# Menampilkan hasil train dan test setelah dilakukan tuning (Logistic Regression)\n",
    "print('Train Set Score : ', grid_logreg.score(X_train, y_train))\n",
    "print('Test Set Score : ', grid_logreg.score(X_test, y_test))"
   ]
  },
  {
   "cell_type": "code",
   "execution_count": 94,
   "metadata": {},
   "outputs": [
    {
     "name": "stdout",
     "output_type": "stream",
     "text": [
      "Train Set Score :  1.0\n",
      "Test Set Score :  0.9278091650973007\n"
     ]
    }
   ],
   "source": [
    "# Menampilkan hasil train dan test setelah dilakukan tuning (KNN)\n",
    "print('Train Set Score : ', grid_knn.score(X_train, y_train))\n",
    "print('Test Set Score : ', grid_knn.score(X_test, y_test))"
   ]
  },
  {
   "cell_type": "code",
   "execution_count": 135,
   "metadata": {},
   "outputs": [
    {
     "name": "stdout",
     "output_type": "stream",
     "text": [
      "Train Set Score :  1.0\n",
      "Test Set Score :  0.9516635279347144\n"
     ]
    }
   ],
   "source": [
    "# Menampilkan hasil train dan test setelah dilakukan tuning (Random Forest)\n",
    "print('Train Set Score : ', grid_rf.score(X_train, y_train))\n",
    "print('Test Set Score : ', grid_rf.score(X_test, y_test))"
   ]
  },
  {
   "cell_type": "code",
   "execution_count": 96,
   "metadata": {},
   "outputs": [
    {
     "name": "stdout",
     "output_type": "stream",
     "text": [
      "Train Set Score :  0.9991365777080062\n",
      "Test Set Score :  0.9218455743879472\n"
     ]
    }
   ],
   "source": [
    "# Menampilkan hasil train dan test setelah dilakukan tuning (Decision Tree)\n",
    "print('Train Set Score : ', grid_dt.score(X_train, y_train))\n",
    "print('Test Set Score : ', grid_dt.score(X_test, y_test))"
   ]
  },
  {
   "cell_type": "code",
   "execution_count": 97,
   "metadata": {},
   "outputs": [
    {
     "name": "stdout",
     "output_type": "stream",
     "text": [
      "Train Set Score :  0.8449764521193093\n",
      "Test Set Score :  0.8314500941619586\n"
     ]
    }
   ],
   "source": [
    "# Menampilkan hasil train dan test setelah dilakukan tuning (SVM)\n",
    "print('Train Set Score : ', grid_svc.score(X_train, y_train))\n",
    "print('Test Set Score : ', grid_svc.score(X_test, y_test))"
   ]
  },
  {
   "cell_type": "code",
   "execution_count": 98,
   "metadata": {},
   "outputs": [
    {
     "name": "stdout",
     "output_type": "stream",
     "text": [
      "Train Set Score :  1.0\n",
      "Test Set Score :  0.9453860640301318\n"
     ]
    }
   ],
   "source": [
    "# Menampilkan hasil train dan test setelah dilakukan tuning (XGBoost)\n",
    "print('Train Set Score : ', grid_xgb.score(X_train, y_train))\n",
    "print('Test Set Score : ', grid_xgb.score(X_test, y_test))"
   ]
  },
  {
   "cell_type": "markdown",
   "metadata": {},
   "source": [
    "## Best Params (All Models)"
   ]
  },
  {
   "cell_type": "code",
   "execution_count": 99,
   "metadata": {},
   "outputs": [
    {
     "name": "stdout",
     "output_type": "stream",
     "text": [
      "{'classifier__n_neighbors': 2, 'classifier__weights': 'distance'}\n",
      "\n",
      "\n",
      "Pipeline(steps=[('transformer',\n",
      "                 ColumnTransformer(transformers=[('scaler', MinMaxScaler(),\n",
      "                                                  ['credit_score', 'age',\n",
      "                                                   'balance', 'num_of_products',\n",
      "                                                   'estimated_salary']),\n",
      "                                                 ('ohe',\n",
      "                                                  OneHotEncoder(handle_unknown='ignore'),\n",
      "                                                  ['geography', 'gender',\n",
      "                                                   'active_member'])])),\n",
      "                ('classifier',\n",
      "                 KNeighborsClassifier(n_neighbors=2, weights='distance'))])\n",
      "\n",
      "\n",
      "Index(['mean_fit_time', 'std_fit_time', 'mean_score_time', 'std_score_time',\n",
      "       'param_classifier__n_neighbors', 'param_classifier__weights', 'params',\n",
      "       'split0_test_score', 'split1_test_score', 'split2_test_score',\n",
      "       'mean_test_score', 'std_test_score', 'rank_test_score'],\n",
      "      dtype='object')\n"
     ]
    }
   ],
   "source": [
    "# Mendefinisikan parameter yang terbaik\n",
    "best_param_knn = grid_knn.best_params_\n",
    "# Menampilkan best parameter\n",
    "print(best_param_knn)\n",
    "print('\\n')\n",
    "# mendefinsiikan estimator yang terbaik\n",
    "best_knn = grid_knn.best_estimator_\n",
    "# menampilkan estimator yang terbaik\n",
    "print(best_knn)\n",
    "print('\\n')\n",
    "# Membuat dataframe untuk result_df_knn\n",
    "result_df_knn = pd.DataFrame.from_dict(grid_knn.cv_results_, orient='columns')\n",
    "# menampilkan kolom result_df_knn\n",
    "print(result_df_knn.columns)"
   ]
  },
  {
   "cell_type": "code",
   "execution_count": 136,
   "metadata": {},
   "outputs": [
    {
     "name": "stdout",
     "output_type": "stream",
     "text": [
      "{'classifier__max_depth': 18, 'classifier__min_samples_split': 2, 'classifier__n_estimators': 300}\n",
      "\n",
      "\n",
      "Pipeline(steps=[('transformer',\n",
      "                 ColumnTransformer(transformers=[('scaler', MinMaxScaler(),\n",
      "                                                  ['credit_score', 'age',\n",
      "                                                   'balance', 'num_of_products',\n",
      "                                                   'estimated_salary']),\n",
      "                                                 ('ohe',\n",
      "                                                  OneHotEncoder(handle_unknown='ignore'),\n",
      "                                                  ['geography', 'gender',\n",
      "                                                   'active_member'])])),\n",
      "                ('classifier',\n",
      "                 RandomForestClassifier(max_depth=18, n_estimators=300))])\n",
      "\n",
      "\n",
      "Index(['mean_fit_time', 'std_fit_time', 'mean_score_time', 'std_score_time',\n",
      "       'param_classifier__max_depth', 'param_classifier__min_samples_split',\n",
      "       'param_classifier__n_estimators', 'params', 'split0_test_score',\n",
      "       'split1_test_score', 'split2_test_score', 'mean_test_score',\n",
      "       'std_test_score', 'rank_test_score'],\n",
      "      dtype='object')\n"
     ]
    }
   ],
   "source": [
    "# Mendefinisikan parameter yang terbaik\n",
    "best_param_rf = grid_rf.best_params_\n",
    "# Menampilkan best parameter\n",
    "print(best_param_rf)\n",
    "print('\\n')\n",
    "# mendefinsiikan estimator yang terbaik\n",
    "best_rf = grid_rf.best_estimator_\n",
    "# menampilkan estimator yang terbaik\n",
    "print(best_rf)\n",
    "print('\\n')\n",
    "# Membuat dataframe untuk result_df_rf\n",
    "result_df_rf = pd.DataFrame.from_dict(grid_rf.cv_results_, orient='columns')\n",
    "# menampilkan kolom result_df_rf\n",
    "print(result_df_rf.columns)"
   ]
  },
  {
   "cell_type": "code",
   "execution_count": 101,
   "metadata": {},
   "outputs": [
    {
     "name": "stdout",
     "output_type": "stream",
     "text": [
      "{'classifier__ccp_alpha': 0.0, 'classifier__criterion': 'gini', 'classifier__max_depth': 20, 'classifier__min_samples_leaf': 1}\n",
      "\n",
      "\n",
      "Pipeline(steps=[('transformer',\n",
      "                 ColumnTransformer(transformers=[('scaler', MinMaxScaler(),\n",
      "                                                  ['credit_score', 'age',\n",
      "                                                   'balance', 'num_of_products',\n",
      "                                                   'estimated_salary']),\n",
      "                                                 ('ohe',\n",
      "                                                  OneHotEncoder(handle_unknown='ignore'),\n",
      "                                                  ['geography', 'gender',\n",
      "                                                   'active_member'])])),\n",
      "                ('classifier', DecisionTreeClassifier(max_depth=20))])\n",
      "\n",
      "\n",
      "Index(['mean_fit_time', 'std_fit_time', 'mean_score_time', 'std_score_time',\n",
      "       'param_classifier__ccp_alpha', 'param_classifier__criterion',\n",
      "       'param_classifier__max_depth', 'param_classifier__min_samples_leaf',\n",
      "       'params', 'split0_test_score', 'split1_test_score', 'split2_test_score',\n",
      "       'mean_test_score', 'std_test_score', 'rank_test_score'],\n",
      "      dtype='object')\n"
     ]
    }
   ],
   "source": [
    "# Mendefinisikan parameter yang terbaik\n",
    "best_param_dt = grid_dt.best_params_\n",
    "# Menampilkan best parameter\n",
    "print(best_param_dt)\n",
    "print('\\n')\n",
    "# mendefinsiikan estimator yang terbaik\n",
    "best_dt = grid_dt.best_estimator_\n",
    "# menampilkan estimator yang terbaik\n",
    "print(best_dt)\n",
    "print('\\n')\n",
    "# Membuat dataframe untuk result_df_dt\n",
    "result_df_dt = pd.DataFrame.from_dict(grid_dt.cv_results_, orient='columns')\n",
    "# menampilkan kolom result_df_dt\n",
    "print(result_df_dt.columns)"
   ]
  },
  {
   "cell_type": "code",
   "execution_count": 102,
   "metadata": {},
   "outputs": [
    {
     "name": "stdout",
     "output_type": "stream",
     "text": [
      "{'classifier__C': 100, 'classifier__gamma': 1}\n",
      "\n",
      "\n",
      "Pipeline(steps=[('transformer',\n",
      "                 ColumnTransformer(transformers=[('scaler', MinMaxScaler(),\n",
      "                                                  ['credit_score', 'age',\n",
      "                                                   'balance', 'num_of_products',\n",
      "                                                   'estimated_salary']),\n",
      "                                                 ('ohe',\n",
      "                                                  OneHotEncoder(handle_unknown='ignore'),\n",
      "                                                  ['geography', 'gender',\n",
      "                                                   'active_member'])])),\n",
      "                ('classifier', SVC(C=100, gamma=1))])\n",
      "\n",
      "\n",
      "Index(['mean_fit_time', 'std_fit_time', 'mean_score_time', 'std_score_time',\n",
      "       'param_classifier__C', 'param_classifier__gamma', 'params',\n",
      "       'split0_test_score', 'split1_test_score', 'split2_test_score',\n",
      "       'mean_test_score', 'std_test_score', 'rank_test_score'],\n",
      "      dtype='object')\n"
     ]
    }
   ],
   "source": [
    "# Mendefinisikan parameter yang terbaik\n",
    "best_param_svc = grid_svc.best_params_\n",
    "# Menampilkan best parameter\n",
    "print(best_param_svc)\n",
    "print('\\n')\n",
    "# mendefinsiikan estimator yang terbaik\n",
    "best_svc = grid_svc.best_estimator_\n",
    "# menampilkan estimator yang terbaik\n",
    "print(best_svc)\n",
    "print('\\n')\n",
    "# Membuat dataframe untuk result_df_svc\n",
    "result_df_svc = pd.DataFrame.from_dict(grid_svc.cv_results_, orient='columns')\n",
    "# menampilkan kolom result_df_svc\n",
    "print(result_df_svc.columns)"
   ]
  },
  {
   "cell_type": "code",
   "execution_count": 103,
   "metadata": {},
   "outputs": [
    {
     "name": "stdout",
     "output_type": "stream",
     "text": [
      "{'classifier__learning_rate': 0.1, 'classifier__max_depth': 14, 'classifier__n_estimators': 480, 'transformer__verbose': 0}\n",
      "\n",
      "\n",
      "Pipeline(steps=[('transformer',\n",
      "                 ColumnTransformer(transformers=[('scaler', MinMaxScaler(),\n",
      "                                                  ['credit_score', 'age',\n",
      "                                                   'balance', 'num_of_products',\n",
      "                                                   'estimated_salary']),\n",
      "                                                 ('ohe',\n",
      "                                                  OneHotEncoder(handle_unknown='ignore'),\n",
      "                                                  ['geography', 'gender',\n",
      "                                                   'active_member'])],\n",
      "                                   verbose=0)),\n",
      "                ('classifier',\n",
      "                 XGBClassifier(base_score=None, booster=None, callbacks=None,\n",
      "                               colsample_bylevel=No...\n",
      "                               feature_types=None, gamma=None, grow_policy=None,\n",
      "                               importance_type=None,\n",
      "                               interaction_constraints=None, learning_rate=0.1,\n",
      "                               max_bin=None, max_cat_threshold=None,\n",
      "                               max_cat_to_onehot=None, max_delta_step=None,\n",
      "                               max_depth=14, max_leaves=None,\n",
      "                               min_child_weight=None, missing=nan,\n",
      "                               monotone_constraints=None, multi_strategy=None,\n",
      "                               n_estimators=480, n_jobs=None,\n",
      "                               num_parallel_tree=None, random_state=None, ...))])\n",
      "\n",
      "\n",
      "Index(['mean_fit_time', 'std_fit_time', 'mean_score_time', 'std_score_time',\n",
      "       'param_classifier__learning_rate', 'param_classifier__max_depth',\n",
      "       'param_classifier__n_estimators', 'param_transformer__verbose',\n",
      "       'params', 'split0_test_score', 'split1_test_score', 'split2_test_score',\n",
      "       'mean_test_score', 'std_test_score', 'rank_test_score'],\n",
      "      dtype='object')\n"
     ]
    }
   ],
   "source": [
    "# Mendefinisikan parameter yang terbaik\n",
    "best_param_xgb = grid_xgb.best_params_\n",
    "# Menampilkan best parameter\n",
    "print(best_param_xgb)\n",
    "print('\\n')\n",
    "# mendefinsiikan estimator yang terbaik\n",
    "best_xgb = grid_xgb.best_estimator_\n",
    "# menampilkan estimator yang terbaik\n",
    "print(best_xgb)\n",
    "print('\\n')\n",
    "# Membuat dataframe untuk result_df_xgb\n",
    "result_df_xgb = pd.DataFrame.from_dict(grid_xgb.cv_results_, orient='columns')\n",
    "# menampilkan kolom result_df_xgb\n",
    "print(result_df_xgb.columns)"
   ]
  },
  {
   "cell_type": "code",
   "execution_count": 104,
   "metadata": {},
   "outputs": [
    {
     "name": "stdout",
     "output_type": "stream",
     "text": [
      "{'classifier__C': 1, 'classifier__penalty': 'l2'}\n",
      "\n",
      "\n",
      "Pipeline(steps=[('transformer',\n",
      "                 ColumnTransformer(transformers=[('scaler', MinMaxScaler(),\n",
      "                                                  ['credit_score', 'age',\n",
      "                                                   'balance', 'num_of_products',\n",
      "                                                   'estimated_salary']),\n",
      "                                                 ('ohe',\n",
      "                                                  OneHotEncoder(handle_unknown='ignore'),\n",
      "                                                  ['geography', 'gender',\n",
      "                                                   'active_member'])])),\n",
      "                ('classifier', LogisticRegression(C=1))])\n",
      "\n",
      "\n",
      "Index(['mean_fit_time', 'std_fit_time', 'mean_score_time', 'std_score_time',\n",
      "       'param_classifier__C', 'param_classifier__penalty', 'params',\n",
      "       'split0_test_score', 'split1_test_score', 'split2_test_score',\n",
      "       'mean_test_score', 'std_test_score', 'rank_test_score'],\n",
      "      dtype='object')\n"
     ]
    }
   ],
   "source": [
    "# Mendefinisikan parameter yang terbaik\n",
    "best_param_logreg = grid_logreg.best_params_\n",
    "# Menampilkan best parameter\n",
    "print(best_param_logreg)\n",
    "print('\\n')\n",
    "# mendefinsiikan estimator yang terbaik\n",
    "best_logreg = grid_logreg.best_estimator_\n",
    "# menampilkan estimator yang terbaik\n",
    "print(best_logreg)\n",
    "print('\\n')\n",
    "# Membuat dataframe untuk result_df_logreg\n",
    "result_df_logreg = pd.DataFrame.from_dict(grid_logreg.cv_results_, orient='columns')\n",
    "# menampilkan kolom result_df_logreg\n",
    "print(result_df_logreg.columns)"
   ]
  },
  {
   "cell_type": "markdown",
   "metadata": {},
   "source": [
    "## Classification Report (All Models)"
   ]
  },
  {
   "cell_type": "markdown",
   "metadata": {},
   "source": [
    "### KNN"
   ]
  },
  {
   "cell_type": "markdown",
   "metadata": {},
   "source": [
    "**Train Score Report**"
   ]
  },
  {
   "cell_type": "code",
   "execution_count": 105,
   "metadata": {},
   "outputs": [
    {
     "name": "stdout",
     "output_type": "stream",
     "text": [
      "              precision    recall  f1-score   support\n",
      "\n",
      "          No       1.00      1.00      1.00      6370\n",
      "         Yes       1.00      1.00      1.00      6370\n",
      "\n",
      "    accuracy                           1.00     12740\n",
      "   macro avg       1.00      1.00      1.00     12740\n",
      "weighted avg       1.00      1.00      1.00     12740\n",
      "\n"
     ]
    }
   ],
   "source": [
    "Target = ['No', 'Yes']\n",
    "print(classification_report(y_train, best_knn.predict(X_train), target_names=Target))"
   ]
  },
  {
   "cell_type": "markdown",
   "metadata": {},
   "source": [
    "**Test Score Report**"
   ]
  },
  {
   "cell_type": "code",
   "execution_count": 106,
   "metadata": {},
   "outputs": [
    {
     "name": "stdout",
     "output_type": "stream",
     "text": [
      "              precision    recall  f1-score   support\n",
      "\n",
      "          No       0.98      0.87      0.92      1593\n",
      "         Yes       0.89      0.98      0.93      1593\n",
      "\n",
      "    accuracy                           0.93      3186\n",
      "   macro avg       0.93      0.93      0.93      3186\n",
      "weighted avg       0.93      0.93      0.93      3186\n",
      "\n"
     ]
    }
   ],
   "source": [
    "Target = ['No', 'Yes']\n",
    "print(classification_report(y_test, best_knn.predict(X_test), target_names=Target))"
   ]
  },
  {
   "cell_type": "code",
   "execution_count": 108,
   "metadata": {},
   "outputs": [
    {
     "data": {
      "text/plain": [
       "<Axes: >"
      ]
     },
     "execution_count": 108,
     "metadata": {},
     "output_type": "execute_result"
    },
    {
     "data": {
      "image/png": "[encoded data removed]",
      "text/plain": [
       "<Figure size 640x480 with 2 Axes>"
      ]
     },
     "metadata": {},
     "output_type": "display_data"
    }
   ],
   "source": [
    "best_knn_pred = best_knn.predict(X_test)\n",
    "sns.heatmap(confusion_matrix(y_test,best_knn_pred), annot=True, fmt = 'd')"
   ]
  },
  {
   "cell_type": "code",
   "execution_count": 109,
   "metadata": {},
   "outputs": [
    {
     "data": {
      "text/html": [
       "<div>\n",
       "<style scoped>\n",
       "    .dataframe tbody tr th:only-of-type {\n",
       "        vertical-align: middle;\n",
       "    }\n",
       "\n",
       "    .dataframe tbody tr th {\n",
       "        vertical-align: top;\n",
       "    }\n",
       "\n",
       "    .dataframe thead th {\n",
       "        text-align: right;\n",
       "    }\n",
       "</style>\n",
       "<table border=\"1\" class=\"dataframe\">\n",
       "  <thead>\n",
       "    <tr style=\"text-align: right;\">\n",
       "      <th></th>\n",
       "      <th>credit_score</th>\n",
       "      <th>age</th>\n",
       "      <th>balance</th>\n",
       "      <th>num_of_products</th>\n",
       "      <th>estimated_salary</th>\n",
       "      <th>geography</th>\n",
       "      <th>gender</th>\n",
       "      <th>active_member</th>\n",
       "      <th>exited</th>\n",
       "      <th>Prediction</th>\n",
       "    </tr>\n",
       "  </thead>\n",
       "  <tbody>\n",
       "    <tr>\n",
       "      <th>0</th>\n",
       "      <td>564.0</td>\n",
       "      <td>31.0</td>\n",
       "      <td>125175.58</td>\n",
       "      <td>1.0</td>\n",
       "      <td>72757.33</td>\n",
       "      <td>Spain</td>\n",
       "      <td>Male</td>\n",
       "      <td>yes</td>\n",
       "      <td>0</td>\n",
       "      <td>0</td>\n",
       "    </tr>\n",
       "    <tr>\n",
       "      <th>1</th>\n",
       "      <td>503.00298</td>\n",
       "      <td>28.0</td>\n",
       "      <td>122384.22</td>\n",
       "      <td>3.0</td>\n",
       "      <td>89017.38</td>\n",
       "      <td>Germany</td>\n",
       "      <td>Male</td>\n",
       "      <td>yes</td>\n",
       "      <td>1</td>\n",
       "      <td>1</td>\n",
       "    </tr>\n",
       "    <tr>\n",
       "      <th>2</th>\n",
       "      <td>794.0</td>\n",
       "      <td>28.0</td>\n",
       "      <td>0.0</td>\n",
       "      <td>2.0</td>\n",
       "      <td>86699.98</td>\n",
       "      <td>Spain</td>\n",
       "      <td>Female</td>\n",
       "      <td>yes</td>\n",
       "      <td>0</td>\n",
       "      <td>0</td>\n",
       "    </tr>\n",
       "    <tr>\n",
       "      <th>3</th>\n",
       "      <td>712.0</td>\n",
       "      <td>44.0</td>\n",
       "      <td>0.0</td>\n",
       "      <td>2.0</td>\n",
       "      <td>45738.94</td>\n",
       "      <td>Spain</td>\n",
       "      <td>Female</td>\n",
       "      <td>no</td>\n",
       "      <td>0</td>\n",
       "      <td>0</td>\n",
       "    </tr>\n",
       "    <tr>\n",
       "      <th>4</th>\n",
       "      <td>503.00298</td>\n",
       "      <td>19.0</td>\n",
       "      <td>125860.2</td>\n",
       "      <td>1.0</td>\n",
       "      <td>129690.5</td>\n",
       "      <td>Germany</td>\n",
       "      <td>Male</td>\n",
       "      <td>no</td>\n",
       "      <td>0</td>\n",
       "      <td>0</td>\n",
       "    </tr>\n",
       "  </tbody>\n",
       "</table>\n",
       "</div>"
      ],
      "text/plain": [
       "  credit_score   age    balance num_of_products estimated_salary geography  \\\n",
       "0        564.0  31.0  125175.58             1.0         72757.33     Spain   \n",
       "1    503.00298  28.0  122384.22             3.0         89017.38   Germany   \n",
       "2        794.0  28.0        0.0             2.0         86699.98     Spain   \n",
       "3        712.0  44.0        0.0             2.0         45738.94     Spain   \n",
       "4    503.00298  19.0   125860.2             1.0         129690.5   Germany   \n",
       "\n",
       "   gender active_member  exited  Prediction  \n",
       "0    Male           yes       0           0  \n",
       "1    Male           yes       1           1  \n",
       "2  Female           yes       0           0  \n",
       "3  Female            no       0           0  \n",
       "4    Male            no       0           0  "
      ]
     },
     "execution_count": 109,
     "metadata": {},
     "output_type": "execute_result"
    }
   ],
   "source": [
    "df_best_knn = pd.concat([X_test.reset_index(drop=True), y_test.reset_index(drop=True)], axis=1)\n",
    "df_best_knn['Prediction'] = best_knn_pred\n",
    "df_best_knn.head()"
   ]
  },
  {
   "cell_type": "markdown",
   "metadata": {},
   "source": [
    "### Random Forest "
   ]
  },
  {
   "cell_type": "markdown",
   "metadata": {},
   "source": [
    "**Train Score Report**"
   ]
  },
  {
   "cell_type": "code",
   "execution_count": 137,
   "metadata": {},
   "outputs": [
    {
     "name": "stdout",
     "output_type": "stream",
     "text": [
      "              precision    recall  f1-score   support\n",
      "\n",
      "          No       1.00      1.00      1.00      6370\n",
      "         Yes       1.00      1.00      1.00      6370\n",
      "\n",
      "    accuracy                           1.00     12740\n",
      "   macro avg       1.00      1.00      1.00     12740\n",
      "weighted avg       1.00      1.00      1.00     12740\n",
      "\n"
     ]
    }
   ],
   "source": [
    "Target = ['No', 'Yes']\n",
    "print(classification_report(y_train, best_rf.predict(X_train), target_names=Target))"
   ]
  },
  {
   "cell_type": "markdown",
   "metadata": {},
   "source": [
    "**Test Score Report**"
   ]
  },
  {
   "cell_type": "code",
   "execution_count": 138,
   "metadata": {},
   "outputs": [
    {
     "name": "stdout",
     "output_type": "stream",
     "text": [
      "              precision    recall  f1-score   support\n",
      "\n",
      "          No       0.98      0.92      0.95      1593\n",
      "         Yes       0.93      0.98      0.95      1593\n",
      "\n",
      "    accuracy                           0.95      3186\n",
      "   macro avg       0.95      0.95      0.95      3186\n",
      "weighted avg       0.95      0.95      0.95      3186\n",
      "\n"
     ]
    }
   ],
   "source": [
    "Target = ['No', 'Yes']\n",
    "print(classification_report(y_test, best_rf.predict(X_test), target_names=Target))"
   ]
  },
  {
   "cell_type": "code",
   "execution_count": 139,
   "metadata": {},
   "outputs": [
    {
     "data": {
      "text/plain": [
       "<Axes: >"
      ]
     },
     "execution_count": 139,
     "metadata": {},
     "output_type": "execute_result"
    },
    {
     "data": {
      "image/png": "[encoded data removed]",
      "text/plain": [
       "<Figure size 640x480 with 2 Axes>"
      ]
     },
     "metadata": {},
     "output_type": "display_data"
    }
   ],
   "source": [
    "best_rf_pred = best_rf.predict(X_test)\n",
    "sns.heatmap(confusion_matrix(y_test,best_rf_pred), annot=True, fmt = 'd')"
   ]
  },
  {
   "cell_type": "code",
   "execution_count": 140,
   "metadata": {},
   "outputs": [
    {
     "data": {
      "text/html": [
       "<div>\n",
       "<style scoped>\n",
       "    .dataframe tbody tr th:only-of-type {\n",
       "        vertical-align: middle;\n",
       "    }\n",
       "\n",
       "    .dataframe tbody tr th {\n",
       "        vertical-align: top;\n",
       "    }\n",
       "\n",
       "    .dataframe thead th {\n",
       "        text-align: right;\n",
       "    }\n",
       "</style>\n",
       "<table border=\"1\" class=\"dataframe\">\n",
       "  <thead>\n",
       "    <tr style=\"text-align: right;\">\n",
       "      <th></th>\n",
       "      <th>credit_score</th>\n",
       "      <th>age</th>\n",
       "      <th>balance</th>\n",
       "      <th>num_of_products</th>\n",
       "      <th>estimated_salary</th>\n",
       "      <th>geography</th>\n",
       "      <th>gender</th>\n",
       "      <th>active_member</th>\n",
       "      <th>exited</th>\n",
       "      <th>Prediction</th>\n",
       "    </tr>\n",
       "  </thead>\n",
       "  <tbody>\n",
       "    <tr>\n",
       "      <th>0</th>\n",
       "      <td>564.0</td>\n",
       "      <td>31.0</td>\n",
       "      <td>125175.58</td>\n",
       "      <td>1.0</td>\n",
       "      <td>72757.33</td>\n",
       "      <td>Spain</td>\n",
       "      <td>Male</td>\n",
       "      <td>yes</td>\n",
       "      <td>0</td>\n",
       "      <td>0</td>\n",
       "    </tr>\n",
       "    <tr>\n",
       "      <th>1</th>\n",
       "      <td>503.00298</td>\n",
       "      <td>28.0</td>\n",
       "      <td>122384.22</td>\n",
       "      <td>3.0</td>\n",
       "      <td>89017.38</td>\n",
       "      <td>Germany</td>\n",
       "      <td>Male</td>\n",
       "      <td>yes</td>\n",
       "      <td>1</td>\n",
       "      <td>1</td>\n",
       "    </tr>\n",
       "    <tr>\n",
       "      <th>2</th>\n",
       "      <td>794.0</td>\n",
       "      <td>28.0</td>\n",
       "      <td>0.0</td>\n",
       "      <td>2.0</td>\n",
       "      <td>86699.98</td>\n",
       "      <td>Spain</td>\n",
       "      <td>Female</td>\n",
       "      <td>yes</td>\n",
       "      <td>0</td>\n",
       "      <td>0</td>\n",
       "    </tr>\n",
       "    <tr>\n",
       "      <th>3</th>\n",
       "      <td>712.0</td>\n",
       "      <td>44.0</td>\n",
       "      <td>0.0</td>\n",
       "      <td>2.0</td>\n",
       "      <td>45738.94</td>\n",
       "      <td>Spain</td>\n",
       "      <td>Female</td>\n",
       "      <td>no</td>\n",
       "      <td>0</td>\n",
       "      <td>0</td>\n",
       "    </tr>\n",
       "    <tr>\n",
       "      <th>4</th>\n",
       "      <td>503.00298</td>\n",
       "      <td>19.0</td>\n",
       "      <td>125860.2</td>\n",
       "      <td>1.0</td>\n",
       "      <td>129690.5</td>\n",
       "      <td>Germany</td>\n",
       "      <td>Male</td>\n",
       "      <td>no</td>\n",
       "      <td>0</td>\n",
       "      <td>0</td>\n",
       "    </tr>\n",
       "  </tbody>\n",
       "</table>\n",
       "</div>"
      ],
      "text/plain": [
       "  credit_score   age    balance num_of_products estimated_salary geography  \\\n",
       "0        564.0  31.0  125175.58             1.0         72757.33     Spain   \n",
       "1    503.00298  28.0  122384.22             3.0         89017.38   Germany   \n",
       "2        794.0  28.0        0.0             2.0         86699.98     Spain   \n",
       "3        712.0  44.0        0.0             2.0         45738.94     Spain   \n",
       "4    503.00298  19.0   125860.2             1.0         129690.5   Germany   \n",
       "\n",
       "   gender active_member  exited  Prediction  \n",
       "0    Male           yes       0           0  \n",
       "1    Male           yes       1           1  \n",
       "2  Female           yes       0           0  \n",
       "3  Female            no       0           0  \n",
       "4    Male            no       0           0  "
      ]
     },
     "execution_count": 140,
     "metadata": {},
     "output_type": "execute_result"
    }
   ],
   "source": [
    "df_best_rf = pd.concat([X_test.reset_index(drop=True), y_test.reset_index(drop=True)], axis=1)\n",
    "df_best_rf['Prediction'] = best_rf_pred\n",
    "df_best_rf.head()"
   ]
  },
  {
   "cell_type": "code",
   "execution_count": 141,
   "metadata": {},
   "outputs": [],
   "source": [
    "df_best_rf.to_csv('Predicted_data_rf.csv', index=False)"
   ]
  },
  {
   "cell_type": "markdown",
   "metadata": {},
   "source": [
    "### Decision Tree"
   ]
  },
  {
   "cell_type": "markdown",
   "metadata": {},
   "source": [
    "**Train Score Report**"
   ]
  },
  {
   "cell_type": "code",
   "execution_count": 114,
   "metadata": {},
   "outputs": [
    {
     "name": "stdout",
     "output_type": "stream",
     "text": [
      "              precision    recall  f1-score   support\n",
      "\n",
      "          No       1.00      1.00      1.00      6370\n",
      "         Yes       1.00      1.00      1.00      6370\n",
      "\n",
      "    accuracy                           1.00     12740\n",
      "   macro avg       1.00      1.00      1.00     12740\n",
      "weighted avg       1.00      1.00      1.00     12740\n",
      "\n"
     ]
    }
   ],
   "source": [
    "Target = ['No', 'Yes']\n",
    "print(classification_report(y_train, best_dt.predict(X_train), target_names=Target))"
   ]
  },
  {
   "cell_type": "markdown",
   "metadata": {},
   "source": [
    "**Test Score Report**"
   ]
  },
  {
   "cell_type": "code",
   "execution_count": 115,
   "metadata": {},
   "outputs": [
    {
     "name": "stdout",
     "output_type": "stream",
     "text": [
      "              precision    recall  f1-score   support\n",
      "\n",
      "          No       0.98      0.86      0.92      1593\n",
      "         Yes       0.88      0.98      0.93      1593\n",
      "\n",
      "    accuracy                           0.92      3186\n",
      "   macro avg       0.93      0.92      0.92      3186\n",
      "weighted avg       0.93      0.92      0.92      3186\n",
      "\n"
     ]
    }
   ],
   "source": [
    "Target = ['No', 'Yes']\n",
    "print(classification_report(y_test, best_dt.predict(X_test), target_names=Target))"
   ]
  },
  {
   "cell_type": "code",
   "execution_count": 116,
   "metadata": {},
   "outputs": [
    {
     "data": {
      "text/plain": [
       "<Axes: >"
      ]
     },
     "execution_count": 116,
     "metadata": {},
     "output_type": "execute_result"
    },
    {
     "data": {
      "image/png": "[encoded data removed]",
      "text/plain": [
       "<Figure size 640x480 with 2 Axes>"
      ]
     },
     "metadata": {},
     "output_type": "display_data"
    }
   ],
   "source": [
    "best_dt_pred = best_dt.predict(X_test)\n",
    "sns.heatmap(confusion_matrix(y_test,best_dt_pred), annot=True, fmt = 'd')"
   ]
  },
  {
   "cell_type": "code",
   "execution_count": 118,
   "metadata": {},
   "outputs": [
    {
     "data": {
      "text/html": [
       "<div>\n",
       "<style scoped>\n",
       "    .dataframe tbody tr th:only-of-type {\n",
       "        vertical-align: middle;\n",
       "    }\n",
       "\n",
       "    .dataframe tbody tr th {\n",
       "        vertical-align: top;\n",
       "    }\n",
       "\n",
       "    .dataframe thead th {\n",
       "        text-align: right;\n",
       "    }\n",
       "</style>\n",
       "<table border=\"1\" class=\"dataframe\">\n",
       "  <thead>\n",
       "    <tr style=\"text-align: right;\">\n",
       "      <th></th>\n",
       "      <th>credit_score</th>\n",
       "      <th>age</th>\n",
       "      <th>balance</th>\n",
       "      <th>num_of_products</th>\n",
       "      <th>estimated_salary</th>\n",
       "      <th>geography</th>\n",
       "      <th>gender</th>\n",
       "      <th>active_member</th>\n",
       "      <th>exited</th>\n",
       "      <th>Prediction</th>\n",
       "    </tr>\n",
       "  </thead>\n",
       "  <tbody>\n",
       "    <tr>\n",
       "      <th>0</th>\n",
       "      <td>564.0</td>\n",
       "      <td>31.0</td>\n",
       "      <td>125175.58</td>\n",
       "      <td>1.0</td>\n",
       "      <td>72757.33</td>\n",
       "      <td>Spain</td>\n",
       "      <td>Male</td>\n",
       "      <td>yes</td>\n",
       "      <td>0</td>\n",
       "      <td>0</td>\n",
       "    </tr>\n",
       "    <tr>\n",
       "      <th>1</th>\n",
       "      <td>503.00298</td>\n",
       "      <td>28.0</td>\n",
       "      <td>122384.22</td>\n",
       "      <td>3.0</td>\n",
       "      <td>89017.38</td>\n",
       "      <td>Germany</td>\n",
       "      <td>Male</td>\n",
       "      <td>yes</td>\n",
       "      <td>1</td>\n",
       "      <td>1</td>\n",
       "    </tr>\n",
       "    <tr>\n",
       "      <th>2</th>\n",
       "      <td>794.0</td>\n",
       "      <td>28.0</td>\n",
       "      <td>0.0</td>\n",
       "      <td>2.0</td>\n",
       "      <td>86699.98</td>\n",
       "      <td>Spain</td>\n",
       "      <td>Female</td>\n",
       "      <td>yes</td>\n",
       "      <td>0</td>\n",
       "      <td>0</td>\n",
       "    </tr>\n",
       "    <tr>\n",
       "      <th>3</th>\n",
       "      <td>712.0</td>\n",
       "      <td>44.0</td>\n",
       "      <td>0.0</td>\n",
       "      <td>2.0</td>\n",
       "      <td>45738.94</td>\n",
       "      <td>Spain</td>\n",
       "      <td>Female</td>\n",
       "      <td>no</td>\n",
       "      <td>0</td>\n",
       "      <td>0</td>\n",
       "    </tr>\n",
       "    <tr>\n",
       "      <th>4</th>\n",
       "      <td>503.00298</td>\n",
       "      <td>19.0</td>\n",
       "      <td>125860.2</td>\n",
       "      <td>1.0</td>\n",
       "      <td>129690.5</td>\n",
       "      <td>Germany</td>\n",
       "      <td>Male</td>\n",
       "      <td>no</td>\n",
       "      <td>0</td>\n",
       "      <td>1</td>\n",
       "    </tr>\n",
       "  </tbody>\n",
       "</table>\n",
       "</div>"
      ],
      "text/plain": [
       "  credit_score   age    balance num_of_products estimated_salary geography  \\\n",
       "0        564.0  31.0  125175.58             1.0         72757.33     Spain   \n",
       "1    503.00298  28.0  122384.22             3.0         89017.38   Germany   \n",
       "2        794.0  28.0        0.0             2.0         86699.98     Spain   \n",
       "3        712.0  44.0        0.0             2.0         45738.94     Spain   \n",
       "4    503.00298  19.0   125860.2             1.0         129690.5   Germany   \n",
       "\n",
       "   gender active_member  exited  Prediction  \n",
       "0    Male           yes       0           0  \n",
       "1    Male           yes       1           1  \n",
       "2  Female           yes       0           0  \n",
       "3  Female            no       0           0  \n",
       "4    Male            no       0           1  "
      ]
     },
     "execution_count": 118,
     "metadata": {},
     "output_type": "execute_result"
    }
   ],
   "source": [
    "df_best_dt = pd.concat([X_test.reset_index(drop=True), y_test.reset_index(drop=True)], axis=1)\n",
    "df_best_dt['Prediction'] = best_dt_pred\n",
    "df_best_dt.head()"
   ]
  },
  {
   "cell_type": "markdown",
   "metadata": {},
   "source": [
    "### Support Vector Machine (SVM)"
   ]
  },
  {
   "cell_type": "markdown",
   "metadata": {},
   "source": [
    "**Train Score Report**"
   ]
  },
  {
   "cell_type": "code",
   "execution_count": 119,
   "metadata": {},
   "outputs": [
    {
     "name": "stdout",
     "output_type": "stream",
     "text": [
      "              precision    recall  f1-score   support\n",
      "\n",
      "          No       0.85      0.84      0.84      6370\n",
      "         Yes       0.84      0.85      0.85      6370\n",
      "\n",
      "    accuracy                           0.84     12740\n",
      "   macro avg       0.84      0.84      0.84     12740\n",
      "weighted avg       0.84      0.84      0.84     12740\n",
      "\n"
     ]
    }
   ],
   "source": [
    "Target = ['No', 'Yes']\n",
    "print(classification_report(y_train, best_svc.predict(X_train), target_names=Target))"
   ]
  },
  {
   "cell_type": "markdown",
   "metadata": {},
   "source": [
    "**Test Score Report**"
   ]
  },
  {
   "cell_type": "code",
   "execution_count": 120,
   "metadata": {},
   "outputs": [
    {
     "name": "stdout",
     "output_type": "stream",
     "text": [
      "              precision    recall  f1-score   support\n",
      "\n",
      "          No       0.84      0.82      0.83      1593\n",
      "         Yes       0.83      0.84      0.83      1593\n",
      "\n",
      "    accuracy                           0.83      3186\n",
      "   macro avg       0.83      0.83      0.83      3186\n",
      "weighted avg       0.83      0.83      0.83      3186\n",
      "\n"
     ]
    }
   ],
   "source": [
    "Target = ['No', 'Yes']\n",
    "print(classification_report(y_test, best_svc.predict(X_test), target_names=Target))"
   ]
  },
  {
   "cell_type": "code",
   "execution_count": 121,
   "metadata": {},
   "outputs": [
    {
     "data": {
      "text/plain": [
       "<Axes: >"
      ]
     },
     "execution_count": 121,
     "metadata": {},
     "output_type": "execute_result"
    },
    {
     "data": {
      "image/png": "[encoded data removed]",
      "text/plain": [
       "<Figure size 640x480 with 2 Axes>"
      ]
     },
     "metadata": {},
     "output_type": "display_data"
    }
   ],
   "source": [
    "best_svc_pred = best_svc.predict(X_test)\n",
    "sns.heatmap(confusion_matrix(y_test,best_svc_pred), annot=True, fmt = 'd')"
   ]
  },
  {
   "cell_type": "code",
   "execution_count": 122,
   "metadata": {},
   "outputs": [
    {
     "data": {
      "text/html": [
       "<div>\n",
       "<style scoped>\n",
       "    .dataframe tbody tr th:only-of-type {\n",
       "        vertical-align: middle;\n",
       "    }\n",
       "\n",
       "    .dataframe tbody tr th {\n",
       "        vertical-align: top;\n",
       "    }\n",
       "\n",
       "    .dataframe thead th {\n",
       "        text-align: right;\n",
       "    }\n",
       "</style>\n",
       "<table border=\"1\" class=\"dataframe\">\n",
       "  <thead>\n",
       "    <tr style=\"text-align: right;\">\n",
       "      <th></th>\n",
       "      <th>credit_score</th>\n",
       "      <th>age</th>\n",
       "      <th>balance</th>\n",
       "      <th>num_of_products</th>\n",
       "      <th>estimated_salary</th>\n",
       "      <th>geography</th>\n",
       "      <th>gender</th>\n",
       "      <th>active_member</th>\n",
       "      <th>exited</th>\n",
       "      <th>Prediction</th>\n",
       "    </tr>\n",
       "  </thead>\n",
       "  <tbody>\n",
       "    <tr>\n",
       "      <th>0</th>\n",
       "      <td>564.0</td>\n",
       "      <td>31.0</td>\n",
       "      <td>125175.58</td>\n",
       "      <td>1.0</td>\n",
       "      <td>72757.33</td>\n",
       "      <td>Spain</td>\n",
       "      <td>Male</td>\n",
       "      <td>yes</td>\n",
       "      <td>0</td>\n",
       "      <td>0</td>\n",
       "    </tr>\n",
       "    <tr>\n",
       "      <th>1</th>\n",
       "      <td>503.00298</td>\n",
       "      <td>28.0</td>\n",
       "      <td>122384.22</td>\n",
       "      <td>3.0</td>\n",
       "      <td>89017.38</td>\n",
       "      <td>Germany</td>\n",
       "      <td>Male</td>\n",
       "      <td>yes</td>\n",
       "      <td>1</td>\n",
       "      <td>1</td>\n",
       "    </tr>\n",
       "    <tr>\n",
       "      <th>2</th>\n",
       "      <td>794.0</td>\n",
       "      <td>28.0</td>\n",
       "      <td>0.0</td>\n",
       "      <td>2.0</td>\n",
       "      <td>86699.98</td>\n",
       "      <td>Spain</td>\n",
       "      <td>Female</td>\n",
       "      <td>yes</td>\n",
       "      <td>0</td>\n",
       "      <td>0</td>\n",
       "    </tr>\n",
       "    <tr>\n",
       "      <th>3</th>\n",
       "      <td>712.0</td>\n",
       "      <td>44.0</td>\n",
       "      <td>0.0</td>\n",
       "      <td>2.0</td>\n",
       "      <td>45738.94</td>\n",
       "      <td>Spain</td>\n",
       "      <td>Female</td>\n",
       "      <td>no</td>\n",
       "      <td>0</td>\n",
       "      <td>0</td>\n",
       "    </tr>\n",
       "    <tr>\n",
       "      <th>4</th>\n",
       "      <td>503.00298</td>\n",
       "      <td>19.0</td>\n",
       "      <td>125860.2</td>\n",
       "      <td>1.0</td>\n",
       "      <td>129690.5</td>\n",
       "      <td>Germany</td>\n",
       "      <td>Male</td>\n",
       "      <td>no</td>\n",
       "      <td>0</td>\n",
       "      <td>0</td>\n",
       "    </tr>\n",
       "  </tbody>\n",
       "</table>\n",
       "</div>"
      ],
      "text/plain": [
       "  credit_score   age    balance num_of_products estimated_salary geography  \\\n",
       "0        564.0  31.0  125175.58             1.0         72757.33     Spain   \n",
       "1    503.00298  28.0  122384.22             3.0         89017.38   Germany   \n",
       "2        794.0  28.0        0.0             2.0         86699.98     Spain   \n",
       "3        712.0  44.0        0.0             2.0         45738.94     Spain   \n",
       "4    503.00298  19.0   125860.2             1.0         129690.5   Germany   \n",
       "\n",
       "   gender active_member  exited  Prediction  \n",
       "0    Male           yes       0           0  \n",
       "1    Male           yes       1           1  \n",
       "2  Female           yes       0           0  \n",
       "3  Female            no       0           0  \n",
       "4    Male            no       0           0  "
      ]
     },
     "execution_count": 122,
     "metadata": {},
     "output_type": "execute_result"
    }
   ],
   "source": [
    "df_best_svc = pd.concat([X_test.reset_index(drop=True), y_test.reset_index(drop=True)], axis=1)\n",
    "df_best_svc['Prediction'] = best_svc_pred\n",
    "df_best_svc.head()"
   ]
  },
  {
   "cell_type": "markdown",
   "metadata": {},
   "source": [
    "### XGBoost"
   ]
  },
  {
   "cell_type": "markdown",
   "metadata": {},
   "source": [
    "**Train Score Report**"
   ]
  },
  {
   "cell_type": "code",
   "execution_count": 123,
   "metadata": {},
   "outputs": [
    {
     "name": "stdout",
     "output_type": "stream",
     "text": [
      "              precision    recall  f1-score   support\n",
      "\n",
      "          No       1.00      1.00      1.00      6370\n",
      "         Yes       1.00      1.00      1.00      6370\n",
      "\n",
      "    accuracy                           1.00     12740\n",
      "   macro avg       1.00      1.00      1.00     12740\n",
      "weighted avg       1.00      1.00      1.00     12740\n",
      "\n"
     ]
    }
   ],
   "source": [
    "Target = ['No', 'Yes']\n",
    "print(classification_report(y_train, best_xgb.predict(X_train), target_names=Target))"
   ]
  },
  {
   "cell_type": "markdown",
   "metadata": {},
   "source": [
    "**Test Score Report**"
   ]
  },
  {
   "cell_type": "code",
   "execution_count": 124,
   "metadata": {},
   "outputs": [
    {
     "name": "stdout",
     "output_type": "stream",
     "text": [
      "              precision    recall  f1-score   support\n",
      "\n",
      "          No       0.98      0.91      0.94      1593\n",
      "         Yes       0.92      0.98      0.95      1593\n",
      "\n",
      "    accuracy                           0.95      3186\n",
      "   macro avg       0.95      0.95      0.95      3186\n",
      "weighted avg       0.95      0.95      0.95      3186\n",
      "\n"
     ]
    }
   ],
   "source": [
    "Target = ['No', 'Yes']\n",
    "print(classification_report(y_test, best_xgb.predict(X_test), target_names=Target))"
   ]
  },
  {
   "cell_type": "code",
   "execution_count": 125,
   "metadata": {},
   "outputs": [
    {
     "data": {
      "text/plain": [
       "<Axes: >"
      ]
     },
     "execution_count": 125,
     "metadata": {},
     "output_type": "execute_result"
    },
    {
     "data": {
      "image/png": "[encoded data removed]",
      "text/plain": [
       "<Figure size 640x480 with 2 Axes>"
      ]
     },
     "metadata": {},
     "output_type": "display_data"
    }
   ],
   "source": [
    "best_xgb_pred = best_xgb.predict(X_test)\n",
    "sns.heatmap(confusion_matrix(y_test,best_xgb_pred), annot=True, fmt = 'd')"
   ]
  },
  {
   "cell_type": "code",
   "execution_count": 126,
   "metadata": {},
   "outputs": [
    {
     "data": {
      "text/html": [
       "<div>\n",
       "<style scoped>\n",
       "    .dataframe tbody tr th:only-of-type {\n",
       "        vertical-align: middle;\n",
       "    }\n",
       "\n",
       "    .dataframe tbody tr th {\n",
       "        vertical-align: top;\n",
       "    }\n",
       "\n",
       "    .dataframe thead th {\n",
       "        text-align: right;\n",
       "    }\n",
       "</style>\n",
       "<table border=\"1\" class=\"dataframe\">\n",
       "  <thead>\n",
       "    <tr style=\"text-align: right;\">\n",
       "      <th></th>\n",
       "      <th>credit_score</th>\n",
       "      <th>age</th>\n",
       "      <th>balance</th>\n",
       "      <th>num_of_products</th>\n",
       "      <th>estimated_salary</th>\n",
       "      <th>geography</th>\n",
       "      <th>gender</th>\n",
       "      <th>active_member</th>\n",
       "      <th>exited</th>\n",
       "      <th>Prediction</th>\n",
       "    </tr>\n",
       "  </thead>\n",
       "  <tbody>\n",
       "    <tr>\n",
       "      <th>0</th>\n",
       "      <td>564.0</td>\n",
       "      <td>31.0</td>\n",
       "      <td>125175.58</td>\n",
       "      <td>1.0</td>\n",
       "      <td>72757.33</td>\n",
       "      <td>Spain</td>\n",
       "      <td>Male</td>\n",
       "      <td>yes</td>\n",
       "      <td>0</td>\n",
       "      <td>0</td>\n",
       "    </tr>\n",
       "    <tr>\n",
       "      <th>1</th>\n",
       "      <td>503.00298</td>\n",
       "      <td>28.0</td>\n",
       "      <td>122384.22</td>\n",
       "      <td>3.0</td>\n",
       "      <td>89017.38</td>\n",
       "      <td>Germany</td>\n",
       "      <td>Male</td>\n",
       "      <td>yes</td>\n",
       "      <td>1</td>\n",
       "      <td>1</td>\n",
       "    </tr>\n",
       "    <tr>\n",
       "      <th>2</th>\n",
       "      <td>794.0</td>\n",
       "      <td>28.0</td>\n",
       "      <td>0.0</td>\n",
       "      <td>2.0</td>\n",
       "      <td>86699.98</td>\n",
       "      <td>Spain</td>\n",
       "      <td>Female</td>\n",
       "      <td>yes</td>\n",
       "      <td>0</td>\n",
       "      <td>0</td>\n",
       "    </tr>\n",
       "    <tr>\n",
       "      <th>3</th>\n",
       "      <td>712.0</td>\n",
       "      <td>44.0</td>\n",
       "      <td>0.0</td>\n",
       "      <td>2.0</td>\n",
       "      <td>45738.94</td>\n",
       "      <td>Spain</td>\n",
       "      <td>Female</td>\n",
       "      <td>no</td>\n",
       "      <td>0</td>\n",
       "      <td>0</td>\n",
       "    </tr>\n",
       "    <tr>\n",
       "      <th>4</th>\n",
       "      <td>503.00298</td>\n",
       "      <td>19.0</td>\n",
       "      <td>125860.2</td>\n",
       "      <td>1.0</td>\n",
       "      <td>129690.5</td>\n",
       "      <td>Germany</td>\n",
       "      <td>Male</td>\n",
       "      <td>no</td>\n",
       "      <td>0</td>\n",
       "      <td>0</td>\n",
       "    </tr>\n",
       "  </tbody>\n",
       "</table>\n",
       "</div>"
      ],
      "text/plain": [
       "  credit_score   age    balance num_of_products estimated_salary geography  \\\n",
       "0        564.0  31.0  125175.58             1.0         72757.33     Spain   \n",
       "1    503.00298  28.0  122384.22             3.0         89017.38   Germany   \n",
       "2        794.0  28.0        0.0             2.0         86699.98     Spain   \n",
       "3        712.0  44.0        0.0             2.0         45738.94     Spain   \n",
       "4    503.00298  19.0   125860.2             1.0         129690.5   Germany   \n",
       "\n",
       "   gender active_member  exited  Prediction  \n",
       "0    Male           yes       0           0  \n",
       "1    Male           yes       1           1  \n",
       "2  Female           yes       0           0  \n",
       "3  Female            no       0           0  \n",
       "4    Male            no       0           0  "
      ]
     },
     "execution_count": 126,
     "metadata": {},
     "output_type": "execute_result"
    }
   ],
   "source": [
    "df_best_xgb = pd.concat([X_test.reset_index(drop=True), y_test.reset_index(drop=True)], axis=1)\n",
    "df_best_xgb['Prediction'] = best_xgb_pred\n",
    "df_best_xgb.head()"
   ]
  },
  {
   "cell_type": "markdown",
   "metadata": {},
   "source": [
    "### Logistic Regression"
   ]
  },
  {
   "cell_type": "markdown",
   "metadata": {},
   "source": [
    "**Train Score Report**"
   ]
  },
  {
   "cell_type": "code",
   "execution_count": 83,
   "metadata": {},
   "outputs": [
    {
     "name": "stdout",
     "output_type": "stream",
     "text": [
      "              precision    recall  f1-score   support\n",
      "\n",
      "          No       0.70      0.72      0.71      6370\n",
      "         Yes       0.71      0.69      0.70      6370\n",
      "\n",
      "    accuracy                           0.70     12740\n",
      "   macro avg       0.70      0.70      0.70     12740\n",
      "weighted avg       0.70      0.70      0.70     12740\n",
      "\n"
     ]
    }
   ],
   "source": [
    "Target = ['No', 'Yes']\n",
    "print(classification_report(y_train, best_logreg.predict(X_train), target_names=Target))"
   ]
  },
  {
   "cell_type": "markdown",
   "metadata": {},
   "source": [
    "**Test Score Report**"
   ]
  },
  {
   "cell_type": "code",
   "execution_count": 84,
   "metadata": {},
   "outputs": [
    {
     "name": "stdout",
     "output_type": "stream",
     "text": [
      "              precision    recall  f1-score   support\n",
      "\n",
      "          No       0.70      0.72      0.71      1593\n",
      "         Yes       0.71      0.70      0.70      1593\n",
      "\n",
      "    accuracy                           0.71      3186\n",
      "   macro avg       0.71      0.71      0.71      3186\n",
      "weighted avg       0.71      0.71      0.71      3186\n",
      "\n"
     ]
    }
   ],
   "source": [
    "Target = ['No', 'Yes']\n",
    "print(classification_report(y_test, best_logreg.predict(X_test), target_names=Target))"
   ]
  },
  {
   "cell_type": "code",
   "execution_count": 127,
   "metadata": {},
   "outputs": [
    {
     "data": {
      "text/plain": [
       "<Axes: >"
      ]
     },
     "execution_count": 127,
     "metadata": {},
     "output_type": "execute_result"
    },
    {
     "data": {
      "image/png": "[encoded data removed]",
      "text/plain": [
       "<Figure size 640x480 with 2 Axes>"
      ]
     },
     "metadata": {},
     "output_type": "display_data"
    }
   ],
   "source": [
    "best_logreg_pred = best_logreg.predict(X_test)\n",
    "sns.heatmap(confusion_matrix(y_test,best_logreg_pred), annot=True, fmt = 'd')"
   ]
  },
  {
   "cell_type": "code",
   "execution_count": 128,
   "metadata": {},
   "outputs": [
    {
     "data": {
      "text/html": [
       "<div>\n",
       "<style scoped>\n",
       "    .dataframe tbody tr th:only-of-type {\n",
       "        vertical-align: middle;\n",
       "    }\n",
       "\n",
       "    .dataframe tbody tr th {\n",
       "        vertical-align: top;\n",
       "    }\n",
       "\n",
       "    .dataframe thead th {\n",
       "        text-align: right;\n",
       "    }\n",
       "</style>\n",
       "<table border=\"1\" class=\"dataframe\">\n",
       "  <thead>\n",
       "    <tr style=\"text-align: right;\">\n",
       "      <th></th>\n",
       "      <th>credit_score</th>\n",
       "      <th>age</th>\n",
       "      <th>balance</th>\n",
       "      <th>num_of_products</th>\n",
       "      <th>estimated_salary</th>\n",
       "      <th>geography</th>\n",
       "      <th>gender</th>\n",
       "      <th>active_member</th>\n",
       "      <th>exited</th>\n",
       "      <th>Prediction</th>\n",
       "    </tr>\n",
       "  </thead>\n",
       "  <tbody>\n",
       "    <tr>\n",
       "      <th>0</th>\n",
       "      <td>564.0</td>\n",
       "      <td>31.0</td>\n",
       "      <td>125175.58</td>\n",
       "      <td>1.0</td>\n",
       "      <td>72757.33</td>\n",
       "      <td>Spain</td>\n",
       "      <td>Male</td>\n",
       "      <td>yes</td>\n",
       "      <td>0</td>\n",
       "      <td>0</td>\n",
       "    </tr>\n",
       "    <tr>\n",
       "      <th>1</th>\n",
       "      <td>503.00298</td>\n",
       "      <td>28.0</td>\n",
       "      <td>122384.22</td>\n",
       "      <td>3.0</td>\n",
       "      <td>89017.38</td>\n",
       "      <td>Germany</td>\n",
       "      <td>Male</td>\n",
       "      <td>yes</td>\n",
       "      <td>1</td>\n",
       "      <td>0</td>\n",
       "    </tr>\n",
       "    <tr>\n",
       "      <th>2</th>\n",
       "      <td>794.0</td>\n",
       "      <td>28.0</td>\n",
       "      <td>0.0</td>\n",
       "      <td>2.0</td>\n",
       "      <td>86699.98</td>\n",
       "      <td>Spain</td>\n",
       "      <td>Female</td>\n",
       "      <td>yes</td>\n",
       "      <td>0</td>\n",
       "      <td>0</td>\n",
       "    </tr>\n",
       "    <tr>\n",
       "      <th>3</th>\n",
       "      <td>712.0</td>\n",
       "      <td>44.0</td>\n",
       "      <td>0.0</td>\n",
       "      <td>2.0</td>\n",
       "      <td>45738.94</td>\n",
       "      <td>Spain</td>\n",
       "      <td>Female</td>\n",
       "      <td>no</td>\n",
       "      <td>0</td>\n",
       "      <td>1</td>\n",
       "    </tr>\n",
       "    <tr>\n",
       "      <th>4</th>\n",
       "      <td>503.00298</td>\n",
       "      <td>19.0</td>\n",
       "      <td>125860.2</td>\n",
       "      <td>1.0</td>\n",
       "      <td>129690.5</td>\n",
       "      <td>Germany</td>\n",
       "      <td>Male</td>\n",
       "      <td>no</td>\n",
       "      <td>0</td>\n",
       "      <td>0</td>\n",
       "    </tr>\n",
       "  </tbody>\n",
       "</table>\n",
       "</div>"
      ],
      "text/plain": [
       "  credit_score   age    balance num_of_products estimated_salary geography  \\\n",
       "0        564.0  31.0  125175.58             1.0         72757.33     Spain   \n",
       "1    503.00298  28.0  122384.22             3.0         89017.38   Germany   \n",
       "2        794.0  28.0        0.0             2.0         86699.98     Spain   \n",
       "3        712.0  44.0        0.0             2.0         45738.94     Spain   \n",
       "4    503.00298  19.0   125860.2             1.0         129690.5   Germany   \n",
       "\n",
       "   gender active_member  exited  Prediction  \n",
       "0    Male           yes       0           0  \n",
       "1    Male           yes       1           0  \n",
       "2  Female           yes       0           0  \n",
       "3  Female            no       0           1  \n",
       "4    Male            no       0           0  "
      ]
     },
     "execution_count": 128,
     "metadata": {},
     "output_type": "execute_result"
    }
   ],
   "source": [
    "df_best_logreg = pd.concat([X_test.reset_index(drop=True), y_test.reset_index(drop=True)], axis=1)\n",
    "df_best_logreg['Prediction'] = best_logreg_pred\n",
    "df_best_logreg.head()"
   ]
  },
  {
   "cell_type": "markdown",
   "metadata": {},
   "source": [
    "# Baseline Model Comparison"
   ]
  },
  {
   "cell_type": "code",
   "execution_count": 129,
   "metadata": {},
   "outputs": [],
   "source": [
    "# Mendefinisikan model\n",
    "models = {\n",
    "    'Logistic Regression' : model_logreg,\n",
    "    'SVM' : model_svm,\n",
    "    'KNN' : model_knn,\n",
    "    'Decision Tree' : model_dt,\n",
    "    'Random Forest' : model_rf,\n",
    "    'XGBoost' : model_xgb\n",
    "}\n",
    "\n",
    "# mendefinisikan metriks nya\n",
    "metrics = {\n",
    "    'Accuracy' : accuracy_score,\n",
    "    'F1-Score' : f1_score,\n",
    "}\n",
    "\n",
    "# membuat dataframe \n",
    "df_model = pd.DataFrame(columns = models.keys(), index=['Accuracy', 'F1-Score'])\n",
    "\n",
    "# Melakukan perhitungan akurasi dan nilai f1\n",
    "for metric in metrics.keys():\n",
    "  for model in models.keys():\n",
    "    df_model.loc[metric, model] = metrics[metric](y_test, models[model].predict(X_test))"
   ]
  },
  {
   "cell_type": "markdown",
   "metadata": {},
   "source": [
    "# Model After Tuning Comparison"
   ]
  },
  {
   "cell_type": "code",
   "execution_count": 142,
   "metadata": {},
   "outputs": [],
   "source": [
    "# Mendefinisikan model\n",
    "models = {\n",
    "    'Logistic Regression' : best_logreg,\n",
    "    'SVM' : best_svc,\n",
    "    'KNN' : best_knn,\n",
    "    'Decision Tree' : best_dt,\n",
    "    'Random Forest' : best_rf,\n",
    "    'XGBoost' : best_xgb\n",
    "}\n",
    "\n",
    "# Mendefinisikan metriks\n",
    "metrics = {\n",
    "    'Accuracy' : accuracy_score,\n",
    "    'F1-Score' : f1_score,\n",
    "}\n",
    "\n",
    "# membuat dataframe hasil nilai metriks model setelah tuning\n",
    "model_tuning = pd.DataFrame(columns = models.keys(), index=['Accuracy', 'F1-Score'])\n",
    "\n",
    "# menghitung nilai metriks\n",
    "for metric in metrics.keys():\n",
    "  for model in models.keys():\n",
    "    model_tuning.loc[metric, model] = metrics[metric](y_test, models[model].predict(X_test))"
   ]
  },
  {
   "cell_type": "code",
   "execution_count": 143,
   "metadata": {},
   "outputs": [
    {
     "data": {
      "text/html": [
       "<div>\n",
       "<style scoped>\n",
       "    .dataframe tbody tr th:only-of-type {\n",
       "        vertical-align: middle;\n",
       "    }\n",
       "\n",
       "    .dataframe tbody tr th {\n",
       "        vertical-align: top;\n",
       "    }\n",
       "\n",
       "    .dataframe thead th {\n",
       "        text-align: right;\n",
       "    }\n",
       "</style>\n",
       "<table border=\"1\" class=\"dataframe\">\n",
       "  <thead>\n",
       "    <tr style=\"text-align: right;\">\n",
       "      <th></th>\n",
       "      <th>Logistic Regression</th>\n",
       "      <th>SVM</th>\n",
       "      <th>KNN</th>\n",
       "      <th>Decision Tree</th>\n",
       "      <th>Random Forest</th>\n",
       "      <th>XGBoost</th>\n",
       "    </tr>\n",
       "  </thead>\n",
       "  <tbody>\n",
       "    <tr>\n",
       "      <th>Accuracy</th>\n",
       "      <td>0.715631</td>\n",
       "      <td>0.781858</td>\n",
       "      <td>0.822662</td>\n",
       "      <td>0.923101</td>\n",
       "      <td>0.950722</td>\n",
       "      <td>0.909291</td>\n",
       "    </tr>\n",
       "    <tr>\n",
       "      <th>F1-Score</th>\n",
       "      <td>0.708682</td>\n",
       "      <td>0.768719</td>\n",
       "      <td>0.832493</td>\n",
       "      <td>0.927321</td>\n",
       "      <td>0.952149</td>\n",
       "      <td>0.911594</td>\n",
       "    </tr>\n",
       "  </tbody>\n",
       "</table>\n",
       "</div>"
      ],
      "text/plain": [
       "         Logistic Regression       SVM       KNN Decision Tree Random Forest  \\\n",
       "Accuracy            0.715631  0.781858  0.822662      0.923101      0.950722   \n",
       "F1-Score            0.708682  0.768719  0.832493      0.927321      0.952149   \n",
       "\n",
       "           XGBoost  \n",
       "Accuracy  0.909291  \n",
       "F1-Score  0.911594  "
      ]
     },
     "execution_count": 143,
     "metadata": {},
     "output_type": "execute_result"
    }
   ],
   "source": [
    "# Menampilkan comparison hasil dari kelima model\n",
    "df_model"
   ]
  },
  {
   "cell_type": "code",
   "execution_count": 144,
   "metadata": {},
   "outputs": [
    {
     "data": {
      "text/html": [
       "<div>\n",
       "<style scoped>\n",
       "    .dataframe tbody tr th:only-of-type {\n",
       "        vertical-align: middle;\n",
       "    }\n",
       "\n",
       "    .dataframe tbody tr th {\n",
       "        vertical-align: top;\n",
       "    }\n",
       "\n",
       "    .dataframe thead th {\n",
       "        text-align: right;\n",
       "    }\n",
       "</style>\n",
       "<table border=\"1\" class=\"dataframe\">\n",
       "  <thead>\n",
       "    <tr style=\"text-align: right;\">\n",
       "      <th></th>\n",
       "      <th>Logistic Regression</th>\n",
       "      <th>SVM</th>\n",
       "      <th>KNN</th>\n",
       "      <th>Decision Tree</th>\n",
       "      <th>Random Forest</th>\n",
       "      <th>XGBoost</th>\n",
       "    </tr>\n",
       "  </thead>\n",
       "  <tbody>\n",
       "    <tr>\n",
       "      <th>Accuracy</th>\n",
       "      <td>0.715631</td>\n",
       "      <td>0.83145</td>\n",
       "      <td>0.927809</td>\n",
       "      <td>0.921846</td>\n",
       "      <td>0.951664</td>\n",
       "      <td>0.945386</td>\n",
       "    </tr>\n",
       "    <tr>\n",
       "      <th>F1-Score</th>\n",
       "      <td>0.708682</td>\n",
       "      <td>0.832866</td>\n",
       "      <td>0.931588</td>\n",
       "      <td>0.926091</td>\n",
       "      <td>0.953049</td>\n",
       "      <td>0.947241</td>\n",
       "    </tr>\n",
       "  </tbody>\n",
       "</table>\n",
       "</div>"
      ],
      "text/plain": [
       "         Logistic Regression       SVM       KNN Decision Tree Random Forest  \\\n",
       "Accuracy            0.715631   0.83145  0.927809      0.921846      0.951664   \n",
       "F1-Score            0.708682  0.832866  0.931588      0.926091      0.953049   \n",
       "\n",
       "           XGBoost  \n",
       "Accuracy  0.945386  \n",
       "F1-Score  0.947241  "
      ]
     },
     "execution_count": 144,
     "metadata": {},
     "output_type": "execute_result"
    }
   ],
   "source": [
    "# Nilai akurasi dan f1 setelah di tuning\n",
    "model_tuning"
   ]
  },
  {
   "cell_type": "markdown",
   "metadata": {},
   "source": [
    "# Model Saving"
   ]
  },
  {
   "cell_type": "code",
   "execution_count": 150,
   "metadata": {},
   "outputs": [],
   "source": [
    "from joblib import dump\n",
    "\n",
    "#Save the Files\n",
    "pickle.dump(best_logreg, open('model_logreg.pkl', 'wb'))\n",
    "pickle.dump(best_svc, open('model_svm.pkl', 'wb'))\n",
    "pickle.dump(best_dt, open('model_dt.pkl', 'wb'))\n",
    "pickle.dump(best_knn, open('model_knn.pkl', 'wb'))\n",
    "pickle.dump(best_rf, open('model_rf.pkl', 'wb'))\n",
    "pickle.dump(best_xgb, open('model_xgb.pkl', 'wb'))\n",
    "\n",
    "dump(best_rf, 'model_rf.joblib')\n",
    "\n",
    "with open('list_num_cols.txt', 'w') as file_1:\n",
    "  json.dump(num_columns, file_1)\n",
    "\n",
    "with open('list_cat_cols.txt', 'w') as file_2:\n",
    "  json.dump(cat_columns, file_2)\n"
   ]
  },
  {
   "cell_type": "markdown",
   "metadata": {},
   "source": [
    "# Model Inference"
   ]
  },
  {
   "cell_type": "code",
   "execution_count": 153,
   "metadata": {},
   "outputs": [
    {
     "data": {
      "text/html": [
       "<div>\n",
       "<style scoped>\n",
       "    .dataframe tbody tr th:only-of-type {\n",
       "        vertical-align: middle;\n",
       "    }\n",
       "\n",
       "    .dataframe tbody tr th {\n",
       "        vertical-align: top;\n",
       "    }\n",
       "\n",
       "    .dataframe thead th {\n",
       "        text-align: right;\n",
       "    }\n",
       "</style>\n",
       "<table border=\"1\" class=\"dataframe\">\n",
       "  <thead>\n",
       "    <tr style=\"text-align: right;\">\n",
       "      <th></th>\n",
       "      <th>credit_score</th>\n",
       "      <th>geography</th>\n",
       "      <th>gender</th>\n",
       "      <th>age</th>\n",
       "      <th>tenure</th>\n",
       "      <th>balance</th>\n",
       "      <th>num_of_products</th>\n",
       "      <th>has_credit_card</th>\n",
       "      <th>active_member</th>\n",
       "      <th>estimated_salary</th>\n",
       "    </tr>\n",
       "  </thead>\n",
       "  <tbody>\n",
       "    <tr>\n",
       "      <th>0</th>\n",
       "      <td>850</td>\n",
       "      <td>Spain</td>\n",
       "      <td>Female</td>\n",
       "      <td>18</td>\n",
       "      <td>8</td>\n",
       "      <td>159660.8</td>\n",
       "      <td>1</td>\n",
       "      <td>no</td>\n",
       "      <td>no</td>\n",
       "      <td>93826.63</td>\n",
       "    </tr>\n",
       "  </tbody>\n",
       "</table>\n",
       "</div>"
      ],
      "text/plain": [
       "   credit_score geography  gender  age  tenure   balance  num_of_products  \\\n",
       "0           850     Spain  Female   18       8  159660.8                1   \n",
       "\n",
       "  has_credit_card active_member  estimated_salary  \n",
       "0              no            no          93826.63  "
      ]
     },
     "execution_count": 153,
     "metadata": {},
     "output_type": "execute_result"
    }
   ],
   "source": [
    "import joblib\n",
    "\n",
    "# Memanggil file yang akan digunakan di dalam model inference\n",
    "with open('list_num_cols.txt', 'r') as f1:\n",
    "  list_num_cols = json.load(f1)\n",
    "\n",
    "with open('list_cat_cols.txt', 'r') as f2:\n",
    "  list_cat_cols = json.load(f2)\n",
    "\n",
    "with open(\"model_rf.joblib\", \"rb\") as f3:\n",
    "    model_rf = joblib.load(f3)\n",
    "\n",
    "# Mendefinisikan data inference dan dibuat kedalam dataframe\n",
    "data_inf = pd.DataFrame({\n",
    "  'credit_score': [850], \n",
    "  'geography': ['Spain'], \n",
    "  'gender' : ['Female'], \n",
    "  'age' : [18], \n",
    "  'tenure' : [8], \n",
    "  'balance': [159660.80],\n",
    "  'num_of_products' : [1], \n",
    "  'has_credit_card' : ['no'], \n",
    "  'active_member' : ['no'], \n",
    "  'estimated_salary': [93826.63]\n",
    "})\n",
    "\n",
    "# Menampilkan data inference yang telah dibuat\n",
    "data_inf"
   ]
  },
  {
   "cell_type": "code",
   "execution_count": 154,
   "metadata": {},
   "outputs": [
    {
     "name": "stdout",
     "output_type": "stream",
     "text": [
      "Predicted class: [0]\n"
     ]
    },
    {
     "data": {
      "text/html": [
       "<div>\n",
       "<style scoped>\n",
       "    .dataframe tbody tr th:only-of-type {\n",
       "        vertical-align: middle;\n",
       "    }\n",
       "\n",
       "    .dataframe tbody tr th {\n",
       "        vertical-align: top;\n",
       "    }\n",
       "\n",
       "    .dataframe thead th {\n",
       "        text-align: right;\n",
       "    }\n",
       "</style>\n",
       "<table border=\"1\" class=\"dataframe\">\n",
       "  <thead>\n",
       "    <tr style=\"text-align: right;\">\n",
       "      <th></th>\n",
       "      <th>credit_score</th>\n",
       "      <th>geography</th>\n",
       "      <th>gender</th>\n",
       "      <th>age</th>\n",
       "      <th>tenure</th>\n",
       "      <th>balance</th>\n",
       "      <th>num_of_products</th>\n",
       "      <th>has_credit_card</th>\n",
       "      <th>active_member</th>\n",
       "      <th>estimated_salary</th>\n",
       "      <th>Prediction</th>\n",
       "    </tr>\n",
       "  </thead>\n",
       "  <tbody>\n",
       "    <tr>\n",
       "      <th>0</th>\n",
       "      <td>850</td>\n",
       "      <td>Spain</td>\n",
       "      <td>Female</td>\n",
       "      <td>18</td>\n",
       "      <td>8</td>\n",
       "      <td>159660.8</td>\n",
       "      <td>1</td>\n",
       "      <td>no</td>\n",
       "      <td>no</td>\n",
       "      <td>93826.63</td>\n",
       "      <td>0</td>\n",
       "    </tr>\n",
       "  </tbody>\n",
       "</table>\n",
       "</div>"
      ],
      "text/plain": [
       "   credit_score geography  gender  age  tenure   balance  num_of_products  \\\n",
       "0           850     Spain  Female   18       8  159660.8                1   \n",
       "\n",
       "  has_credit_card active_member  estimated_salary  Prediction  \n",
       "0              no            no          93826.63           0  "
      ]
     },
     "execution_count": 154,
     "metadata": {},
     "output_type": "execute_result"
    }
   ],
   "source": [
    "# Make predictions\n",
    "y_pred_inf = model_knn.predict(data_inf).astype(int)\n",
    "print(\"Predicted class:\", y_pred_inf)\n",
    "\n",
    "data_inf['Prediction'] = y_pred_inf\n",
    "# menampilkan data inference yang telah diprediksi\n",
    "data_inf"
   ]
  }
 ],
 "metadata": {
  "kernelspec": {
   "display_name": "Python 3",
   "language": "python",
   "name": "python3"
  },
  "language_info": {
   "codemirror_mode": {
    "name": "ipython",
    "version": 3
   },
   "file_extension": ".py",
   "mimetype": "text/x-python",
   "name": "python",
   "nbconvert_exporter": "python",
   "pygments_lexer": "ipython3",
   "version": "3.11.7"
  }
 },
 "nbformat": 4,
 "nbformat_minor": 2
}
